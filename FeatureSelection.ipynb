{
 "cells": [
  {
   "cell_type": "raw",
   "id": "modified-foundation",
   "metadata": {},
   "source": [
    "time_1.csv\n",
    "\n",
    "0            ----      Action\n",
    "\n",
    "1            ----      Minimum_A_F\n",
    "2            ----      Maximum_A_F\n",
    "3            ----      Median_A_F\n",
    "4            ----      Mean_A_F\n",
    "5            ----      ArmMean_A_F\n",
    "6            ----      RMS_A_F\n",
    "7            ----      Variance_A_F\n",
    "8            ----      STD_A_F\n",
    "9            ----      Kurtosis_A_F\n",
    "10            ----      Skewness_A_F\n",
    "11            ----      TrimMean_A_F\n",
    "12            ----      AsymmetryCoefficient_A_F\n",
    "13            ----      ZCR_A_F\n",
    "14            ----      MCR_A_F\n",
    "15            ----      Range_A_F\n",
    "\n",
    "16            ----      Minimum_A_V\n",
    "17            ----      Maximum_A_V\n",
    "18            ----      Median_A_V\n",
    "19            ----      Mean_A_V\n",
    "20            ----      ArmMean_A_V\n",
    "21            ----      RMS_A_V\n",
    "22            ----      Variance_A_V\n",
    "23            ----      STD_A_V\n",
    "24            ----      Kurtosis_A_V\n",
    "25            ----      Skewness_A_V\n",
    "26            ----      TrimMean_A_V\n",
    "27            ----      AsymmetryCoefficient_A_V\n",
    "28            ----      ZCR_A_V\n",
    "29            ----      MCR_A_V\n",
    "30            ----      Range_A_V\n",
    "\n",
    "31            ----      Minimum_A_L\n",
    "32            ----      Maximum_A_L\n",
    "33            ----      Median_A_L\n",
    "34            ----      Mean_A_L\n",
    "35            ----      ArmMean_A_L\n",
    "36            ----      RMS_A_L\n",
    "37            ----      Variance_A_L\n",
    "38            ----      STD_A_L\n",
    "39            ----      Kurtosis_A_L\n",
    "40            ----      Skewness_A_L\n",
    "41            ----      TrimMean_A_L\n",
    "42            ----      AsymmetryCoefficient_A_L\n",
    "43            ----      ZCR_A_L\n",
    "44            ----      MCR_A_L\n",
    "45            ----      Range_A_L\n",
    "\n",
    "46            ----      Minimum_L_F\n",
    "47            ----      Maximum_L_F\n",
    "48            ----      Median_L_F\n",
    "49            ----      Mean_L_F\n",
    "50            ----      ArmMean_L_F\n",
    "51            ----      RMS_L_F\n",
    "52            ----      Variance_L_F\n",
    "53            ----      STD_L_F\n",
    "54            ----      Kurtosis_L_F\n",
    "55            ----      Skewness_L_F\n",
    "56            ----      TrimMean_L_F\n",
    "57            ----      AsymmetryCoefficient_L_F\n",
    "58            ----      ZCR_L_F\n",
    "59            ----      MCR_L_F\n",
    "60            ----      Range_L_F\n",
    "\n",
    "61            ----      Minimum_L_V\n",
    "62            ----      Maximum_L_V\n",
    "63            ----      Median_L_V\n",
    "64            ----      Mean_L_V\n",
    "65            ----      ArmMean_L_V\n",
    "66            ----      RMS_L_V\n",
    "67            ----      Variance_L_V\n",
    "68            ----      STD_L_V\n",
    "69            ----      Kurtosis_L_V\n",
    "70            ----      Skewness_L_V\n",
    "71           ----      TrimMean_L_V\n",
    "72            ----      AsymmetryCoefficient_L_V\n",
    "73            ----      ZCR_L_V\n",
    "74            ----      MCR_L_V\n",
    "75            ----      Range_L_V\n",
    "\n",
    "76            ----      Minimum_L_L\n",
    "77            ----      Maximum_L_L\n",
    "78            ----      Median_L_L\n",
    "79            ----      Mean_L_L\n",
    "80            ----      ArmMean_L_L\n",
    "81            ----      RMS_L_L\n",
    "82            ----      Variance_L_L\n",
    "83            ----      STD_L_L\n",
    "84            ----      Kurtosis_L_L\n",
    "85            ----      Skewness_L_L\n",
    "86            ----      TrimMean_L_L\n",
    "87            ----      AsymmetryCoefficient_L_L\n",
    "88            ----      ZCR_L_L\n",
    "89            ----      MCR_L_L\n",
    "90            ----      Range_L_L\n",
    "\n",
    "91            ----      Minimum_T_F\n",
    "92            ----      Maximum_T_F\n",
    "93            ----      Median_T_F\n",
    "94            ----      Mean_T_F\n",
    "95            ----      ArmMean_T_F\n",
    "96            ----      RMS_T_F\n",
    "97            ----      Variance_T_F\n",
    "98            ----      STD_T_F\n",
    "99            ----      Kurtosis_T_F\n",
    "100            ----      Skewness_T_F\n",
    "101           ----      TrimMean_T_F\n",
    "102            ----      AsymmetryCoefficient_T_F\n",
    "103            ----      ZCR_T_F\n",
    "104            ----      MCR_T_F\n",
    "105            ----      Range_T_F\n",
    "\n",
    "106            ----      Minimum_T_V\n",
    "107            ----      Maximum_T_V\n",
    "108            ----      Median_T_V\n",
    "109            ----      Mean_T_V\n",
    "110            ----      ArmMean_T_V\n",
    "111            ----      RMS_T_V\n",
    "112            ----      Variance_T_V\n",
    "113            ----      STD_T_V\n",
    "114            ----      Kurtosis_T_V\n",
    "115            ----      Skewness_T_V\n",
    "116            ----      TrimMean_T_V\n",
    "117            ----      AsymmetryCoefficient_T_V\n",
    "118            ----      ZCR_T_V\n",
    "119            ----      MCR_T_V\n",
    "120            ----      Range_T_V\n",
    "\n",
    "121            ----      Minimum_A_F\n",
    "122            ----      Maximum_A_F\n",
    "123            ----      Median_A_F\n",
    "124            ----      Mean_A_F\n",
    "125            ----      ArmMean_A_F\n",
    "126            ----      RMS_A_F\n",
    "127            ----      Variance_A_F\n",
    "128            ----      STD_A_F\n",
    "129            ----      Kurtosis_A_F\n",
    "130            ----      Skewness_A_F\n",
    "131            ----      TrimMean_A_F\n",
    "132            ----      AsymmetryCoefficient_A_F\n",
    "133            ----      ZCR_A_F\n",
    "134            ----      MCR_A_F\n",
    "135            ----      Range_A_F"
   ]
  },
  {
   "cell_type": "raw",
   "id": "figured-tumor",
   "metadata": {},
   "source": [
    "freq_1.csv\n",
    "\n",
    "136 + \n",
    "\n",
    "0            ----        FreezingIndex_A_F\n",
    "1            ----        FreezingIndex_A_V\n",
    "2            ----        FreezingIndex_A_L\n",
    "3            ----        FreezingIndex_L_F\n",
    "4            ----        FreezingIndex_L_V\n",
    "5            ----        FreezingIndex_L_L\n",
    "6            ----        FreezingIndex_T_F\n",
    "7            ----        FreezingIndex_T_V\n",
    "8            ----        FreezingIndex_T_L\n",
    "\n",
    "9            ----         Power_A_F\n",
    "10            ----        Power_A_V\n",
    "11            ----        Power_A_L\n",
    "12            ----        Power_L_F\n",
    "13            ----        Power_L_V\n",
    "14            ----        Power_L_L\n",
    "15            ----        Power_T_F\n",
    "16            ----        Power_T_V\n",
    "17            ----        Power_T_L\n",
    "\n",
    "18            ----        Energy_A_F\n",
    "19            ----        Energy_A_V\n",
    "20            ----        Energy_A_L\n",
    "21            ----        Energy_L_F\n",
    "22            ----        Energy_L_V\n",
    "23            ----        Energy_L_L\n",
    "24            ----        Energy_T_F\n",
    "25            ----        Energy_T_V\n",
    "26            ----        Energy_T_L\n",
    "\n",
    "27            ----        PeakFrequency_A_F\n",
    "28            ----        PeakFrequency_A_V\n",
    "29            ----        PeakFrequency_A_L\n",
    "30            ----        PeakFrequency_L_F\n",
    "31            ----        PeakFrequency_L_V\n",
    "32            ----        PeakFrequency_L_L\n",
    "33            ----        PeakFrequency_T_F\n",
    "34            ----        PeakFrequency_T_V\n",
    "35            ----        PeakFrequency_T_L\n",
    "\n",
    "36            ----        Entropy_A_F\n",
    "37            ----        Entropy_A_V\n",
    "38            ----        Entropy_A_L\n",
    "39            ----        Entropy_L_F\n",
    "40            ----        Entropy_L_V\n",
    "41            ----        Entropy_L_L\n",
    "42            ----        Entropy_T_F\n",
    "43            ----        Entropy_T_V\n",
    "44            ----        Entropy_T_L"
   ]
  },
  {
   "cell_type": "code",
   "execution_count": 10,
   "id": "native-wagner",
   "metadata": {},
   "outputs": [],
   "source": [
    "import pandas as pd\n",
    "import numpy as np\n",
    "import os\n",
    "import tensorflow as tf"
   ]
  },
  {
   "cell_type": "code",
   "execution_count": 11,
   "id": "signal-turtle",
   "metadata": {},
   "outputs": [
    {
     "data": {
      "text/plain": [
       "'F:\\\\KARTIK\\\\2021\\\\Freezing of Gait'"
      ]
     },
     "execution_count": 11,
     "metadata": {},
     "output_type": "execute_result"
    }
   ],
   "source": [
    "os.getcwd()"
   ]
  },
  {
   "cell_type": "code",
   "execution_count": 12,
   "id": "impressive-alloy",
   "metadata": {},
   "outputs": [
    {
     "name": "stdout",
     "output_type": "stream",
     "text": [
      "True\n"
     ]
    }
   ],
   "source": [
    "data_path_1 = os.path.join(os.getcwd(), 'dataset_fog_release', 'dataset', 'features', 'freq_1.csv')\n",
    "if os.path.exists(data_path_1):\n",
    "    print(True)"
   ]
  },
  {
   "cell_type": "code",
   "execution_count": 13,
   "id": "driven-cooper",
   "metadata": {},
   "outputs": [
    {
     "name": "stdout",
     "output_type": "stream",
     "text": [
      "True\n"
     ]
    }
   ],
   "source": [
    "data_path_2 = os.path.join(os.getcwd(), 'dataset_fog_release', 'dataset', 'features', 'time_1.csv')\n",
    "if os.path.exists(data_path_2):\n",
    "    print(True)"
   ]
  },
  {
   "cell_type": "code",
   "execution_count": 14,
   "id": "modular-humanitarian",
   "metadata": {},
   "outputs": [],
   "source": [
    "#Load the time features\n",
    "time_features = pd.read_csv(data_path_2)\n",
    "\n",
    "#Load the frequency features\n",
    "freq_features = pd.read_csv(data_path_1)"
   ]
  },
  {
   "cell_type": "code",
   "execution_count": null,
   "id": "approximate-adult",
   "metadata": {},
   "outputs": [],
   "source": [
    "\n"
   ]
  },
  {
   "cell_type": "code",
   "execution_count": 15,
   "id": "exciting-engine",
   "metadata": {},
   "outputs": [
    {
     "data": {
      "text/plain": [
       "(12658, 21)"
      ]
     },
     "execution_count": 15,
     "metadata": {},
     "output_type": "execute_result"
    }
   ],
   "source": [
    "features = [time_features.iloc[:,0:12], freq_features.iloc[:,[0,1,2,9,10,11,36,37,38]]]\n",
    "final_features = pd.concat(features, axis = 1)\n",
    "\n",
    "#Get the shape of the dataframe\n",
    "final_features.shape"
   ]
  },
  {
   "cell_type": "code",
   "execution_count": 16,
   "id": "unnecessary-religion",
   "metadata": {},
   "outputs": [
    {
     "data": {
      "text/html": [
       "<div>\n",
       "<style scoped>\n",
       "    .dataframe tbody tr th:only-of-type {\n",
       "        vertical-align: middle;\n",
       "    }\n",
       "\n",
       "    .dataframe tbody tr th {\n",
       "        vertical-align: top;\n",
       "    }\n",
       "\n",
       "    .dataframe thead th {\n",
       "        text-align: right;\n",
       "    }\n",
       "</style>\n",
       "<table border=\"1\" class=\"dataframe\">\n",
       "  <thead>\n",
       "    <tr style=\"text-align: right;\">\n",
       "      <th></th>\n",
       "      <th>0</th>\n",
       "      <th>Minimum_A_F</th>\n",
       "      <th>Maximum_A_F</th>\n",
       "      <th>Median_A_F</th>\n",
       "      <th>Mean_A_F</th>\n",
       "      <th>ArmMean_A_F</th>\n",
       "      <th>RMS_A_F</th>\n",
       "      <th>Variance_A_F</th>\n",
       "      <th>STD_A_F</th>\n",
       "      <th>Kurtosis_A_F</th>\n",
       "      <th>...</th>\n",
       "      <th>TrimMean_A_F</th>\n",
       "      <th>FI_A_F</th>\n",
       "      <th>FI_A_V</th>\n",
       "      <th>FI_A_L</th>\n",
       "      <th>P_A_F</th>\n",
       "      <th>P_A_V</th>\n",
       "      <th>P_A_L</th>\n",
       "      <th>ENt_A_F</th>\n",
       "      <th>ENt_A_V</th>\n",
       "      <th>ENt_A_L</th>\n",
       "    </tr>\n",
       "  </thead>\n",
       "  <tbody>\n",
       "    <tr>\n",
       "      <th>0</th>\n",
       "      <td>0</td>\n",
       "      <td>-121</td>\n",
       "      <td>90</td>\n",
       "      <td>-50.0</td>\n",
       "      <td>-50.875000</td>\n",
       "      <td>0.000000</td>\n",
       "      <td>64.817773</td>\n",
       "      <td>1613.078125</td>\n",
       "      <td>40.163144</td>\n",
       "      <td>2.808410</td>\n",
       "      <td>...</td>\n",
       "      <td>-50.875000</td>\n",
       "      <td>3.033743</td>\n",
       "      <td>0.198547</td>\n",
       "      <td>0.299836</td>\n",
       "      <td>46235.233242</td>\n",
       "      <td>4.192775e+06</td>\n",
       "      <td>426656.746293</td>\n",
       "      <td>2.848596</td>\n",
       "      <td>2.773791</td>\n",
       "      <td>2.627315</td>\n",
       "    </tr>\n",
       "    <tr>\n",
       "      <th>1</th>\n",
       "      <td>0</td>\n",
       "      <td>-121</td>\n",
       "      <td>40</td>\n",
       "      <td>-50.0</td>\n",
       "      <td>-49.000000</td>\n",
       "      <td>0.000000</td>\n",
       "      <td>60.410833</td>\n",
       "      <td>1248.468750</td>\n",
       "      <td>35.333677</td>\n",
       "      <td>-0.615322</td>\n",
       "      <td>...</td>\n",
       "      <td>-49.000000</td>\n",
       "      <td>4.369914</td>\n",
       "      <td>0.216587</td>\n",
       "      <td>0.171385</td>\n",
       "      <td>39618.105379</td>\n",
       "      <td>4.128661e+06</td>\n",
       "      <td>447118.114826</td>\n",
       "      <td>2.367487</td>\n",
       "      <td>3.110655</td>\n",
       "      <td>2.808822</td>\n",
       "    </tr>\n",
       "    <tr>\n",
       "      <th>2</th>\n",
       "      <td>0</td>\n",
       "      <td>-90</td>\n",
       "      <td>50</td>\n",
       "      <td>-50.0</td>\n",
       "      <td>-48.437500</td>\n",
       "      <td>0.000000</td>\n",
       "      <td>55.761770</td>\n",
       "      <td>763.183594</td>\n",
       "      <td>27.625778</td>\n",
       "      <td>3.044294</td>\n",
       "      <td>...</td>\n",
       "      <td>-48.437500</td>\n",
       "      <td>4.654526</td>\n",
       "      <td>0.207979</td>\n",
       "      <td>0.175159</td>\n",
       "      <td>52733.710047</td>\n",
       "      <td>4.124724e+06</td>\n",
       "      <td>484651.284698</td>\n",
       "      <td>2.113819</td>\n",
       "      <td>3.063275</td>\n",
       "      <td>2.812928</td>\n",
       "    </tr>\n",
       "    <tr>\n",
       "      <th>3</th>\n",
       "      <td>0</td>\n",
       "      <td>-161</td>\n",
       "      <td>40</td>\n",
       "      <td>-50.0</td>\n",
       "      <td>-52.390625</td>\n",
       "      <td>34.896197</td>\n",
       "      <td>63.512179</td>\n",
       "      <td>1289.019287</td>\n",
       "      <td>35.902915</td>\n",
       "      <td>1.414610</td>\n",
       "      <td>...</td>\n",
       "      <td>-52.390625</td>\n",
       "      <td>3.609687</td>\n",
       "      <td>0.201192</td>\n",
       "      <td>0.245850</td>\n",
       "      <td>55848.235299</td>\n",
       "      <td>4.081800e+06</td>\n",
       "      <td>524303.997092</td>\n",
       "      <td>2.267055</td>\n",
       "      <td>2.900160</td>\n",
       "      <td>2.677376</td>\n",
       "    </tr>\n",
       "    <tr>\n",
       "      <th>4</th>\n",
       "      <td>0</td>\n",
       "      <td>-141</td>\n",
       "      <td>20</td>\n",
       "      <td>-60.0</td>\n",
       "      <td>-58.656250</td>\n",
       "      <td>48.458215</td>\n",
       "      <td>64.156060</td>\n",
       "      <td>675.444336</td>\n",
       "      <td>25.989312</td>\n",
       "      <td>1.215502</td>\n",
       "      <td>...</td>\n",
       "      <td>-58.656250</td>\n",
       "      <td>0.921765</td>\n",
       "      <td>0.209767</td>\n",
       "      <td>0.238337</td>\n",
       "      <td>24854.924149</td>\n",
       "      <td>4.041311e+06</td>\n",
       "      <td>448136.977828</td>\n",
       "      <td>3.036838</td>\n",
       "      <td>2.981486</td>\n",
       "      <td>2.809107</td>\n",
       "    </tr>\n",
       "  </tbody>\n",
       "</table>\n",
       "<p>5 rows × 21 columns</p>\n",
       "</div>"
      ],
      "text/plain": [
       "   0  Minimum_A_F  Maximum_A_F  Median_A_F   Mean_A_F  ArmMean_A_F    RMS_A_F  \\\n",
       "0  0         -121           90       -50.0 -50.875000     0.000000  64.817773   \n",
       "1  0         -121           40       -50.0 -49.000000     0.000000  60.410833   \n",
       "2  0          -90           50       -50.0 -48.437500     0.000000  55.761770   \n",
       "3  0         -161           40       -50.0 -52.390625    34.896197  63.512179   \n",
       "4  0         -141           20       -60.0 -58.656250    48.458215  64.156060   \n",
       "\n",
       "   Variance_A_F    STD_A_F  Kurtosis_A_F  ...  TrimMean_A_F    FI_A_F  \\\n",
       "0   1613.078125  40.163144      2.808410  ...    -50.875000  3.033743   \n",
       "1   1248.468750  35.333677     -0.615322  ...    -49.000000  4.369914   \n",
       "2    763.183594  27.625778      3.044294  ...    -48.437500  4.654526   \n",
       "3   1289.019287  35.902915      1.414610  ...    -52.390625  3.609687   \n",
       "4    675.444336  25.989312      1.215502  ...    -58.656250  0.921765   \n",
       "\n",
       "     FI_A_V    FI_A_L         P_A_F         P_A_V          P_A_L   ENt_A_F  \\\n",
       "0  0.198547  0.299836  46235.233242  4.192775e+06  426656.746293  2.848596   \n",
       "1  0.216587  0.171385  39618.105379  4.128661e+06  447118.114826  2.367487   \n",
       "2  0.207979  0.175159  52733.710047  4.124724e+06  484651.284698  2.113819   \n",
       "3  0.201192  0.245850  55848.235299  4.081800e+06  524303.997092  2.267055   \n",
       "4  0.209767  0.238337  24854.924149  4.041311e+06  448136.977828  3.036838   \n",
       "\n",
       "    ENt_A_V   ENt_A_L  \n",
       "0  2.773791  2.627315  \n",
       "1  3.110655  2.808822  \n",
       "2  3.063275  2.812928  \n",
       "3  2.900160  2.677376  \n",
       "4  2.981486  2.809107  \n",
       "\n",
       "[5 rows x 21 columns]"
      ]
     },
     "execution_count": 16,
     "metadata": {},
     "output_type": "execute_result"
    }
   ],
   "source": [
    "final_features.head()"
   ]
  },
  {
   "cell_type": "raw",
   "id": "human-toolbox",
   "metadata": {},
   "source": [
    "WALK : 10804\n",
    " \n",
    "PreFOG : 1617 \n",
    " \n",
    "FOG : 237"
   ]
  },
  {
   "cell_type": "code",
   "execution_count": 17,
   "id": "average-catering",
   "metadata": {},
   "outputs": [],
   "source": [
    "from sklearn.model_selection import train_test_split\n",
    "from sklearn.preprocessing import normalize\n",
    "from sklearn.ensemble import RandomForestClassifier\n",
    "from sklearn.metrics import accuracy_score, confusion_matrix\n",
    "from sklearn.utils import shuffle"
   ]
  },
  {
   "cell_type": "code",
   "execution_count": 18,
   "id": "unknown-locking",
   "metadata": {},
   "outputs": [],
   "source": [
    "X = final_features.iloc[:,1:]\n",
    "y = final_features.iloc[:,0]"
   ]
  },
  {
   "cell_type": "code",
   "execution_count": 19,
   "id": "advanced-nepal",
   "metadata": {},
   "outputs": [],
   "source": [
    "X, y = shuffle(X,y, random_state = 0)\n",
    "\n",
    "X = normalize(X)"
   ]
  },
  {
   "cell_type": "code",
   "execution_count": 20,
   "id": "rotary-emission",
   "metadata": {},
   "outputs": [],
   "source": [
    "rf = RandomForestClassifier(random_state = 0)"
   ]
  },
  {
   "cell_type": "code",
   "execution_count": 21,
   "id": "standard-pitch",
   "metadata": {},
   "outputs": [],
   "source": [
    "X_train, X_test, y_train, y_test = train_test_split(X, y, stratify = y, random_state = 0)"
   ]
  },
  {
   "cell_type": "code",
   "execution_count": 22,
   "id": "classical-outreach",
   "metadata": {},
   "outputs": [],
   "source": [
    "model = rf.fit(X_train, y_train)"
   ]
  },
  {
   "cell_type": "code",
   "execution_count": 23,
   "id": "attempted-shame",
   "metadata": {},
   "outputs": [],
   "source": [
    "y_pred = model.predict(X_test)"
   ]
  },
  {
   "cell_type": "code",
   "execution_count": 24,
   "id": "fifth-blind",
   "metadata": {},
   "outputs": [
    {
     "data": {
      "text/plain": [
       "0.8701421800947867"
      ]
     },
     "execution_count": 24,
     "metadata": {},
     "output_type": "execute_result"
    }
   ],
   "source": [
    "accuracy_score(y_test, y_pred)"
   ]
  },
  {
   "cell_type": "code",
   "execution_count": 25,
   "id": "minor-eating",
   "metadata": {},
   "outputs": [
    {
     "name": "stdout",
     "output_type": "stream",
     "text": [
      "[[2634   68    0]\n",
      " [ 284  120    0]\n",
      " [  44   15    0]]\n"
     ]
    }
   ],
   "source": [
    "cnf = confusion_matrix(y_test, y_pred)\n",
    "print(cnf)"
   ]
  },
  {
   "cell_type": "code",
   "execution_count": 26,
   "id": "exterior-adaptation",
   "metadata": {},
   "outputs": [],
   "source": [
    "# For class pre-FoG\n",
    "tp = cnf[1][1]\n",
    "tn = cnf[0][0] + cnf[0][2] + cnf[2][0] + cnf[2][2]\n",
    "fp = cnf[1][0] + cnf[1][2]\n",
    "fn = cnf[0][1] + cnf[2][1]"
   ]
  },
  {
   "cell_type": "code",
   "execution_count": 27,
   "id": "living-retention",
   "metadata": {},
   "outputs": [],
   "source": [
    "precision = tp/(tp + fp)\n",
    "recall =  tp / (tp + fn)    #sensitivity\n",
    "F1_score = (2*tp) / (2*tp + fp + fn)"
   ]
  },
  {
   "cell_type": "code",
   "execution_count": 28,
   "id": "absolute-diary",
   "metadata": {},
   "outputs": [
    {
     "name": "stdout",
     "output_type": "stream",
     "text": [
      "The evaluation metrics are:\n",
      "precision = 0.297029702970297,\n",
      "recall = 0.5911330049261084, \n",
      "F1-score = 0.3953871499176277\n"
     ]
    }
   ],
   "source": [
    "print(\"The evaluation metrics are:\\nprecision = {},\\nrecall = {}, \\nF1-score = {}\".format(precision, recall, F1_score) )"
   ]
  },
  {
   "cell_type": "code",
   "execution_count": null,
   "id": "weird-metropolitan",
   "metadata": {},
   "outputs": [],
   "source": []
  }
 ],
 "metadata": {
  "kernelspec": {
   "display_name": "Python 3",
   "language": "python",
   "name": "python3"
  },
  "language_info": {
   "codemirror_mode": {
    "name": "ipython",
    "version": 3
   },
   "file_extension": ".py",
   "mimetype": "text/x-python",
   "name": "python",
   "nbconvert_exporter": "python",
   "pygments_lexer": "ipython3",
   "version": "3.7.0"
  }
 },
 "nbformat": 4,
 "nbformat_minor": 5
}
