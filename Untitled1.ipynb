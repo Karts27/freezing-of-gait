{
 "cells": [
  {
   "cell_type": "code",
   "execution_count": 1,
   "id": "universal-mexico",
   "metadata": {},
   "outputs": [
    {
     "data": {
      "text/plain": [
       "'F:\\\\KARTIK\\\\2021\\\\Freezing of Gait'"
      ]
     },
     "execution_count": 1,
     "metadata": {},
     "output_type": "execute_result"
    }
   ],
   "source": [
    "#!pip install imblearn\n",
    "import pandas as pd\n",
    "import numpy as np\n",
    "import os\n",
    "import pickle\n",
    "import sys\n",
    "import math\n",
    "from sklearn.preprocessing import normalize\n",
    "from sklearn.metrics import confusion_matrix, classification_report\n",
    "import warnings\n",
    "import matplotlib.pyplot as plt\n",
    "warnings.simplefilter(action='ignore', category=FutureWarning)\n",
    "from sklearn.model_selection import train_test_split\n",
    "from sklearn.model_selection import cross_val_score\n",
    "from imblearn.over_sampling import SMOTE\n",
    "from sklearn.ensemble import RandomForestClassifier\n",
    "from sklearn.tree import DecisionTreeClassifier\n",
    "from sklearn.svm import SVC\n",
    "from sklearn.neighbors import KNeighborsClassifier\n",
    "os.getcwd()"
   ]
  },
  {
   "cell_type": "code",
   "execution_count": 2,
   "id": "sticky-cowboy",
   "metadata": {},
   "outputs": [],
   "source": [
    "data_path = os.path.join(\n",
    "                    os.getcwd(),\n",
    "                    'dataset_fog_release',\n",
    "                    'dataset',\n",
    "                    'features'\n",
    ")\n",
    "if not os.path.exists(data_path):\n",
    "    print(\"Path Error\")"
   ]
  },
  {
   "cell_type": "code",
   "execution_count": 3,
   "id": "applicable-joint",
   "metadata": {},
   "outputs": [],
   "source": [
    "def normalize_data(df):\n",
    "    #a = df.drop(columns = ['0'])\n",
    "    for i in df.columns.to_list():\n",
    "        mean = df[i].mean()\n",
    "        std = df[i].std()\n",
    "        df[i] = (df[i] - mean) / std\n",
    "        return df\n",
    "\n",
    "def getsize(model):   \n",
    "    p = pickle.dumps(model)\n",
    "    return sys.getsizeof(p)\n",
    "\n",
    "\n",
    "def rfe(model, X_train, y_train):\n",
    "    from sklearn.feature_selection import RFE\n",
    "    selector = RFE(model,60,1,1)\n",
    "    selector.fit(X_train,y_train)\n",
    "    print(selector.ranking_)\n",
    "    y_p = selector.predict(X_test)\n",
    "    print (confusion_matrix(y_test,y_p))\n",
    "    print (classification_report(y_test,y_p,digits = 5))\n",
    "\n",
    "def getfeatures(model,X_train,y_train):\n",
    "    from sklearn.feature_selection import RFE\n",
    "    model = DecisionTreeClassifier()\n",
    "    selector = RFE(model,60,1)\n",
    "    selector.fit(X_train,y_train)\n",
    "    col = []\n",
    "    for i in range(len(selector.ranking_)):\n",
    "        if selector.ranking_[i] == 1:\n",
    "            col.append(X_train.columns[i])\n",
    "    return col"
   ]
  },
  {
   "cell_type": "code",
   "execution_count": 4,
   "id": "united-pitch",
   "metadata": {},
   "outputs": [
    {
     "name": "stdout",
     "output_type": "stream",
     "text": [
      "(12658, 136) (12658, 45)\n",
      "0    10804\n",
      "1     1617\n",
      "2      237\n",
      "Name: 0, dtype: int64\n",
      "0    10804\n",
      "1     1617\n",
      "Name: 0, dtype: int64\n"
     ]
    }
   ],
   "source": [
    "readTime = os.path.join(data_path, 'time_1.csv')\n",
    "readFreq = os.path.join(data_path, 'freq_1.csv')\n",
    "readFinal = os.path.join(data_path, 'final_features.csv')\n",
    "\n",
    "timeDom = pd.read_csv(readTime)\n",
    "freqDom = pd.read_csv(readFreq)\n",
    "df = pd.read_csv(readFinal)\n",
    "\n",
    "print (timeDom.shape,freqDom.shape)\n",
    "print (df['0'].value_counts())\n",
    "df = df[df['0'] != 2]\n",
    "print (df['0'].value_counts())"
   ]
  },
  {
   "cell_type": "raw",
   "id": "separated-cycle",
   "metadata": {},
   "source": [
    "Train-Test Split:\n",
    "There exists a class imbalance between FOG and Normal classes. This is solved using SMOTE over sampling. Random Undersampling also works with considerable efficiency."
   ]
  },
  {
   "cell_type": "code",
   "execution_count": 3,
   "id": "major-coverage",
   "metadata": {},
   "outputs": [],
   "source": [
    "# total_features = [\n",
    "\n",
    "#             7, 8, -1, 22, 37,\n",
    "#             1, 6, 15, 21, 30, \n",
    "#             2, 16, 17, 31, 36,\n",
    "#             9, 10, 23, 24, 35,\n",
    "#             45, 145, 146, 172, 173,\n",
    "#             38, 39, 147, 174, 32,\n",
    "#             3, 4, 18, 25, 33\n",
    "\n",
    "#         ]\n",
    "\n",
    "total_features = [\n",
    "        4, 19, 34, 49, 64, 79,\n",
    "        8, 23, 38, 53, 68, 83,\n",
    "        7, 22, 37, 52, 67, 82,\n",
    "        6, 21, 36, 51, 66, 81,\n",
    "        1, 16, 31, 46, 61, 76,\n",
    "        172, 173, 174, 175, 176, 177, 178, 179, 180,\n",
    "        154, 155, 156, 157, 158, 159, 160, 161, 162,\n",
    "        163, 164, 165, 166, 167, 168, 169, 170, 171, \n",
    "        136, 137, 138, 139, 140, 141, 142, 143, 144, \n",
    "        145, 146, 147, 148, 149, 150, 151, 152, 153\n",
    "]"
   ]
  },
  {
   "cell_type": "raw",
   "id": "physical-building",
   "metadata": {},
   "source": [
    "Standard ML Model Experiments:\n",
    "The tests are conducted under various standard ML models and thier corresponding efficiencies and model sizes are reported."
   ]
  },
  {
   "cell_type": "code",
   "execution_count": null,
   "id": "advisory-magic",
   "metadata": {
    "scrolled": false
   },
   "outputs": [],
   "source": [
    "f1_dt = []\n",
    "for num_ftrs in range(5, 40, 5):\n",
    "    X = df.iloc[:,total_features[:num_ftrs]]\n",
    "    y = df['0']\n",
    "    \n",
    "    X_resampled = normalize_data(X).values\n",
    "    y_resampled = y.values\n",
    "    \n",
    "    #X_resampled, y_resampled = SMOTE().fit_resample(X,y)\n",
    "    X_train,X_test,y_train,y_test = train_test_split(X_resampled,y_resampled, train_size = 0.7, stratify = y_resampled)\n",
    "    \n",
    "    # Initiate a decision tree model\n",
    "    model = DecisionTreeClassifier(class_weight=None, \n",
    "                            criterion='entropy',\n",
    "                            max_depth=10,\n",
    "                            max_features=3, \n",
    "                            max_leaf_nodes=None,\n",
    "                            min_impurity_decrease=0.0, \n",
    "                            min_samples_leaf=18, \n",
    "                            min_samples_split=10,\n",
    "                            min_weight_fraction_leaf=0.0, \n",
    "                            #presort=False,\n",
    "                            random_state=2, \n",
    "                            splitter='best'\n",
    "                            ) \n",
    "\n",
    "    model.fit(X_train,y_train)\n",
    "    y_pred = model.predict(X_test)\n",
    "    scores = cross_val_score(model,X_resampled,y_resampled,cv=10)\n",
    "    print(\"Accuracy: %0.5f (+/- %0.5f)\" % (scores.mean(), scores.std() * 2))\n",
    "    #print (confusion_matrix(y_test,y_pred))\n",
    "    tn, fp, fn, tp = confusion_matrix(y_test, y_pred).ravel()\n",
    "    specificity = tn / (tn+fp)\n",
    "    report_dt = classification_report(y_test,y_pred,target_names = ['WALK', 'FoG'],digits=5, output_dict = True)\n",
    "    print (report_dt['FoG']['recall'])\n",
    "    print(specificity)\n",
    "    f1_dt.append(report_dt['FoG']['recall']) \n",
    "    num = [i for i in range(5, num_ftrs + 1, 5)]\n",
    "    plt.plot( num ,f1_dt)\n",
    "    plt.xlabel(\"No. of features\")\n",
    "    plt.ylabel(\"Recall\")\n",
    "    #plt.ylim((0.7,1.1))\n",
    "    plt.grid(True)\n",
    "    plt.show()\n",
    "    print (\"Model size is: \",getsize(model))"
   ]
  },
  {
   "cell_type": "code",
   "execution_count": null,
   "id": "incorporate-disclaimer",
   "metadata": {
    "scrolled": false
   },
   "outputs": [],
   "source": [
    "f1_rf = []\n",
    "for num_ftrs in range(5, 40, 5):\n",
    "    X = df.iloc[:,total_features[:num_ftrs]]\n",
    "    y = df['0']\n",
    "    \n",
    "    \n",
    "    X_resampled = normalize_data(X).values\n",
    "    y_resampled = y.values\n",
    "    \n",
    "    X_train,X_test,y_train,y_test = train_test_split(X_resampled,y_resampled, train_size = 0.7, stratify = y_resampled)\n",
    "    \n",
    "    # Initiate a decision tree model\n",
    "    model = RandomForestClassifier(\n",
    "                        n_estimators=500,\n",
    "                        criterion='gini',\n",
    "                        max_depth=50,\n",
    "                        min_samples_split=5,\n",
    "                        min_samples_leaf=15,\n",
    "                        max_features='auto',\n",
    "                        max_leaf_nodes=None,\n",
    "                        min_impurity_split=None,\n",
    "                        bootstrap=True,\n",
    "                        n_jobs=-1,\n",
    "                        random_state=2,\n",
    "                        class_weight='balanced'\n",
    ")\n",
    "#     X_train = X_train[getfeatures(model,X_train,y_train)]\n",
    "#     X_test = X_test[getfeatures(model,X_train,y_train)]\n",
    "    model.fit(X_train,y_train)\n",
    "    y_pred = model.predict(X_test)\n",
    "    scores = cross_val_score(model,X_resampled,y_resampled,cv=10)\n",
    "    print(\"Accuracy: %0.5f (+/- %0.5f)\" % (scores.mean(), scores.std() * 2))\n",
    "#    print (confusion_matrix(y_test,y_pred))\n",
    "    report_rf = classification_report(y_test,y_pred,target_names = ['WALK', 'FoG'],digits=5, output_dict = True )\n",
    "    tn, fp, fn, tp = confusion_matrix(y_test, y_pred).ravel()\n",
    "    specificity = tn / (tn+fp)\n",
    "    \n",
    "   # print (report_dt['FoG']['f1-score'])\n",
    "    print(specificity)\n",
    "    f1_rf.append(report_dt['FoG']['f1-score']) \n",
    "    num = [i for i in range(5, num_ftrs + 1, 5)]\n",
    "    plt.plot( num ,f1_rf)\n",
    "    plt.xlabel(\"No. of features\")\n",
    "    plt.ylabel(\"F1 - Score of FoG Class\")\n",
    "    \n",
    "    plt.grid(True)\n",
    "    plt.show()\n",
    "    print (\"Model size is: \",getsize(model))"
   ]
  },
  {
   "cell_type": "code",
   "execution_count": null,
   "id": "patent-display",
   "metadata": {
    "scrolled": false
   },
   "outputs": [],
   "source": [
    "f1_rf = []\n",
    "for num_ftrs in range(5, 40, 5):\n",
    "    X = df.iloc[:,total_features[:num_ftrs]]\n",
    "    y = df['0']\n",
    "    \n",
    "    \n",
    "    X_resampled = normalize_data(X).values\n",
    "    y_resampled = y.values\n",
    "    \n",
    "    X_train,X_test,y_train,y_test = train_test_split(X_resampled,y_resampled, train_size = 0.7, stratify = y_resampled)\n",
    "    \n",
    "    # Initiate a decision tree model\n",
    "    model = RandomForestClassifier(\n",
    "                        n_estimators=500,\n",
    "                        criterion='gini',\n",
    "                        max_depth=50,\n",
    "                        min_samples_split=5,\n",
    "                        min_samples_leaf=15,\n",
    "                        max_features='auto',\n",
    "                        max_leaf_nodes=None,\n",
    "                        min_impurity_split=None,\n",
    "                        bootstrap=True,\n",
    "                        n_jobs=-1,\n",
    "                        random_state=2,\n",
    "                        class_weight='balanced'\n",
    ")\n",
    "#     X_train = X_train[getfeatures(model,X_train,y_train)]\n",
    "#     X_test = X_test[getfeatures(model,X_train,y_train)]\n",
    "    model.fit(X_train,y_train)\n",
    "    y_pred = model.predict(X_test)\n",
    "    scores = cross_val_score(model,X_resampled,y_resampled,cv=10)\n",
    "    print(\"Accuracy: %0.5f (+/- %0.5f)\" % (scores.mean(), scores.std() * 2))\n",
    "#    print (confusion_matrix(y_test,y_pred))\n",
    "    report_rf = classification_report(y_test,y_pred,target_names = ['WALK', 'FoG'],digits=5, output_dict = True )\n",
    "    tn, fp, fn, tp = confusion_matrix(y_test, y_pred).ravel()\n",
    "    specificity = tn / (tn+fp)\n",
    "    \n",
    "   # print (report_dt['FoG']['f1-score'])\n",
    "    print(specificity)\n",
    "    f1_rf.append(report_rf['FoG']['recall']) \n",
    "    num = [i for i in range(5, num_ftrs + 1, 5)]\n",
    "    plt.plot( num ,f1_rf)\n",
    "    plt.xlabel(\"No. of features\")\n",
    "    plt.ylabel(\"Recall\")\n",
    "    \n",
    "    plt.grid(True)\n",
    "    plt.show()\n",
    "    print (\"Model size is: \",getsize(model))"
   ]
  },
  {
   "cell_type": "code",
   "execution_count": null,
   "id": "english-doubt",
   "metadata": {
    "scrolled": false
   },
   "outputs": [],
   "source": [
    "f1_knn = []\n",
    "for num_ftrs in range(5, 40, 5):\n",
    "    X = df.iloc[:,total_features[:num_ftrs]]\n",
    "    y = df['0']\n",
    "    \n",
    "    \n",
    "    X_resampled = normalize_data(X).values\n",
    "    y_resampled = y.values\n",
    "    \n",
    "    X_train,X_test,y_train,y_test = train_test_split(X_resampled,y_resampled, train_size = 0.7, stratify = y_resampled)\n",
    "    \n",
    "    # Initiate a decision tree model\n",
    "    model = KNeighborsClassifier(n_neighbors = 3)\n",
    "#     X_train = X_train[getfeatures(model,X_train,y_train)]\n",
    "#     X_test = X_test[getfeatures(model,X_train,y_train)]\n",
    "    model.fit(X_train,y_train)\n",
    "    y_pred = model.predict(X_test)\n",
    "    scores = cross_val_score(model,X_resampled,y_resampled,cv=10)\n",
    "    print(\"Accuracy: %0.5f (+/- %0.5f)\" % (scores.mean(), scores.std() * 2))\n",
    "#    print (confusion_matrix(y_test,y_pred))\n",
    "    report_knn = classification_report(y_test,y_pred,target_names = ['WALK', 'FoG'],digits=5, output_dict = True )\n",
    "    tn, fp, fn, tp = confusion_matrix(y_test, y_pred).ravel()\n",
    "    specificity = tn / (tn+fp)\n",
    "    \n",
    "   # print (report_dt['FoG']['f1-score'])\n",
    "    print(specificity)\n",
    "    f1_knn.append(report_knn['FoG']['recall']) \n",
    "    num = [i for i in range(5, num_ftrs + 1, 5)]\n",
    "    plt.plot( num ,f1_knn)\n",
    "    plt.xlabel(\"No. of features\")\n",
    "    plt.ylabel(\"Recall\")\n",
    "    \n",
    "    plt.grid(True)\n",
    "    plt.show()\n",
    "    print (\"Model size is: \",getsize(model))"
   ]
  },
  {
   "cell_type": "code",
   "execution_count": 6,
   "id": "suspected-treat",
   "metadata": {
    "scrolled": false
   },
   "outputs": [
    {
     "name": "stdout",
     "output_type": "stream",
     "text": [
      "Accuracy: 0.86974 (+/- 0.00064)\n"
     ]
    },
    {
     "data": {
      "image/png": "[encoded data removed]",
      "text/plain": [
       "<Figure size 432x288 with 1 Axes>"
      ]
     },
     "metadata": {
      "needs_background": "light"
     },
     "output_type": "display_data"
    },
    {
     "name": "stdout",
     "output_type": "stream",
     "text": [
      "Model size is:  140780\n",
      "Accuracy: 0.86982 (+/- 0.00073)\n"
     ]
    },
    {
     "data": {
      "image/png": "[encoded data removed]",
      "text/plain": [
       "<Figure size 432x288 with 1 Axes>"
      ]
     },
     "metadata": {
      "needs_background": "light"
     },
     "output_type": "display_data"
    },
    {
     "name": "stdout",
     "output_type": "stream",
     "text": [
      "Model size is:  236660\n",
      "Accuracy: 0.86982 (+/- 0.00073)\n"
     ]
    },
    {
     "data": {
      "image/png": "[encoded data removed]",
      "text/plain": [
       "<Figure size 432x288 with 1 Axes>"
      ]
     },
     "metadata": {
      "needs_background": "light"
     },
     "output_type": "display_data"
    },
    {
     "name": "stdout",
     "output_type": "stream",
     "text": [
      "Model size is:  324020\n",
      "Accuracy: 0.86982 (+/- 0.00073)\n"
     ]
    },
    {
     "data": {
      "image/png": "[encoded data removed]",
      "text/plain": [
       "<Figure size 432x288 with 1 Axes>"
      ]
     },
     "metadata": {
      "needs_background": "light"
     },
     "output_type": "display_data"
    },
    {
     "name": "stdout",
     "output_type": "stream",
     "text": [
      "Model size is:  414020\n",
      "Accuracy: 0.86982 (+/- 0.00073)\n"
     ]
    },
    {
     "data": {
      "image/png": "[encoded data removed]",
      "text/plain": [
       "<Figure size 432x288 with 1 Axes>"
      ]
     },
     "metadata": {
      "needs_background": "light"
     },
     "output_type": "display_data"
    },
    {
     "name": "stdout",
     "output_type": "stream",
     "text": [
      "Model size is:  511640\n",
      "Accuracy: 0.86966 (+/- 0.00087)\n"
     ]
    },
    {
     "data": {
      "image/png": "[encoded data removed]",
      "text/plain": [
       "<Figure size 432x288 with 1 Axes>"
      ]
     },
     "metadata": {
      "needs_background": "light"
     },
     "output_type": "display_data"
    },
    {
     "name": "stdout",
     "output_type": "stream",
     "text": [
      "Model size is:  610380\n",
      "Accuracy: 0.86966 (+/- 0.00087)\n"
     ]
    },
    {
     "data": {
      "image/png": "[encoded data removed]",
      "text/plain": [
       "<Figure size 432x288 with 1 Axes>"
      ]
     },
     "metadata": {
      "needs_background": "light"
     },
     "output_type": "display_data"
    },
    {
     "name": "stdout",
     "output_type": "stream",
     "text": [
      "Model size is:  699860\n"
     ]
    }
   ],
   "source": [
    "import warnings\n",
    "warnings.filterwarnings('ignore')\n",
    "f1_svc = []\n",
    "for num_ftrs in range(5, 40, 5):\n",
    "    X = df.iloc[:,total_features[:num_ftrs]]\n",
    "    y = df['0']\n",
    "    \n",
    "    \n",
    "        \n",
    "      \n",
    "    X_resampled = normalize_data(X).values\n",
    "    y_resampled = y.values  \n",
    "    X_train,X_test,y_train,y_test = train_test_split(X_resampled,y_resampled, train_size = 0.7, stratify = y_resampled)\n",
    "    \n",
    "    # Initiate a SVC model\n",
    "    model = SVC(kernel = 'rbf')\n",
    "#     X_train = X_train[getfeatures(model,X_train,y_train)]\n",
    "#     X_test = X_test[getfeatures(model,X_train,y_train)]\n",
    "    model.fit(X_train,y_train)\n",
    "    y_pred = model.predict(X_test)\n",
    "    scores = cross_val_score(model,X_resampled,y_resampled,cv=10)\n",
    "    print(\"Accuracy: %0.5f (+/- %0.5f)\" % (scores.mean(), scores.std() * 2))\n",
    "#    print (confusion_matrix(y_test,y_pred))\n",
    "    report_svc = classification_report(y_test,y_pred,target_names = ['WALK', 'FoG'],digits=5, output_dict = True )\n",
    "    tn, fp, fn, tp = confusion_matrix(y_test, y_pred).ravel()\n",
    "    specificity = tn / (tn+fp)\n",
    "    \n",
    "    #print (report_svc['FoG']['f1-score'])\n",
    "    #print(specificity)\n",
    "    f1_svc.append(report_svc['FoG']['recall']) \n",
    "    num = [i for i in range(5, num_ftrs + 1, 5)]\n",
    "    plt.plot( num ,f1_svc)\n",
    "    plt.xlabel(\"No. of features\")\n",
    "    plt.ylabel(\"Recall\")\n",
    "    \n",
    "    plt.grid(True)\n",
    "    plt.show()\n",
    "    print (\"Model size is: \",getsize(model))\n",
    "\n",
    "# recall -> sensitivity"
   ]
  },
  {
   "cell_type": "code",
   "execution_count": null,
   "id": "naughty-skill",
   "metadata": {},
   "outputs": [],
   "source": [
    "set(y_test) - set(y_pred)"
   ]
  },
  {
   "cell_type": "code",
   "execution_count": null,
   "id": "excited-patient",
   "metadata": {},
   "outputs": [],
   "source": []
  },
  {
   "cell_type": "code",
   "execution_count": null,
   "id": "serious-excerpt",
   "metadata": {
    "scrolled": true
   },
   "outputs": [],
   "source": []
  },
  {
   "cell_type": "code",
   "execution_count": null,
   "id": "grave-discretion",
   "metadata": {},
   "outputs": [],
   "source": []
  }
 ],
 "metadata": {
  "kernelspec": {
   "display_name": "Python 3",
   "language": "python",
   "name": "python3"
  },
  "language_info": {
   "codemirror_mode": {
    "name": "ipython",
    "version": 3
   },
   "file_extension": ".py",
   "mimetype": "text/x-python",
   "name": "python",
   "nbconvert_exporter": "python",
   "pygments_lexer": "ipython3",
   "version": "3.7.0"
  }
 },
 "nbformat": 4,
 "nbformat_minor": 5
}
