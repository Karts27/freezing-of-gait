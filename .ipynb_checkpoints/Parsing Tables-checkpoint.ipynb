{
 "cells": [
  {
   "cell_type": "code",
   "execution_count": null,
   "id": "determined-vintage",
   "metadata": {},
   "outputs": [],
   "source": [
    "#Checking if java is installed in the OS\n",
    "!java -version"
   ]
  },
  {
   "cell_type": "code",
   "execution_count": null,
   "id": "smoking-numbers",
   "metadata": {},
   "outputs": [],
   "source": [
    "pip install tabula-py"
   ]
  },
  {
   "cell_type": "code",
   "execution_count": 5,
   "id": "normal-index",
   "metadata": {},
   "outputs": [],
   "source": [
    "import tabula\n",
    "import os\n",
    "import re\n",
    "import pandas as pd\n",
    "#tabula.environment_info()"
   ]
  },
  {
   "cell_type": "code",
   "execution_count": 6,
   "id": "chubby-gospel",
   "metadata": {},
   "outputs": [
    {
     "data": {
      "text/plain": [
       "['01_VENTURE_EPD_Modular Carpet_07112018_form (002)_locked.pdf',\n",
       " '02_VENTURE_EPD_Commercial Braodloom_07112018_form (002)_locked.pdf',\n",
       " 'Cladding',\n",
       " 'Paint',\n",
       " 'Palmex Synthetic Palm Leaves EPD.pdf',\n",
       " 'Panels',\n",
       " 'Sika_EPD_1_Flooring_systems_2019-06-26_vforCSA.pdf',\n",
       " 'Sika_EPD_2_wall_coatings_2019-06-26_vforCSA.pdf',\n",
       " 'Sika_EPD_3_Resinous_components_2019-06-26_vforCSA.pdf',\n",
       " 'Sika_EPD_4_Cementitious_components_2019-06-26_vforCSA.pdf',\n",
       " 'Walker_EPD_Acid-etched and Unetched Mirrors.pdf']"
      ]
     },
     "execution_count": 6,
     "metadata": {},
     "output_type": "execute_result"
    }
   ],
   "source": [
    "path = \"Canada/Others\"\n",
    "os.listdir(path)"
   ]
  },
  {
   "cell_type": "code",
   "execution_count": 12,
   "id": "ongoing-madness",
   "metadata": {
    "scrolled": true
   },
   "outputs": [
    {
     "data": {
      "text/plain": [
       "[                                          Unnamed: 0  \\\n",
       " 0                                                NaN   \n",
       " 1                                                NaN   \n",
       " 2                    Global warming potential\\r(GWP)   \n",
       " 3                   Ozone depletion potential\\r(ODP)   \n",
       " 4                      Acidifi cation potential (AP)   \n",
       " 5                      Eutrophication potential (EP)   \n",
       " 6     Photochemical Smog\\rFormation Potential (PSFP)   \n",
       " 7  Abiotic resource depletion\\rpotential (ADP) – ...   \n",
       " 8  Abiotic resource depletion\\rpotential (ADP) – ...   \n",
       " \n",
       "                                           REGULAR Open Roof Closed Roof  \\\n",
       " 0                         Environmental indicator      Unit       A1-A3   \n",
       " 1  TRACI 2.1 (with the exception of ADP elements)       NaN         NaN   \n",
       " 2                                    kg CO  eq. 2      7.41        1.08   \n",
       " 3                                   kg CFC-11 eq.  2.27E-07    8.02E-08   \n",
       " 4                                     kg SO  eq.2  3.21E-02    1.22E-02   \n",
       " 5                                        kg N eq.  5.16E-03    9.40E-04   \n",
       " 6                                      kg O  eq.3  4.60E-01    2.33E-01   \n",
       " 7                                       kg Sb eq.  2.19E-06    8.72E-08   \n",
       " 8                                      MJ Surplus      29.4        2.04   \n",
       " \n",
       "   Unnamed: 1 Unnamed: 2 Unnamed: 3 Unnamed: 4 Unnamed: 5  \n",
       " 0         A4         A5      A1-A3         A4         A5  \n",
       " 1        NaN        NaN        NaN        NaN        NaN  \n",
       " 2       1.85       6.06   6.08E-01   6.08E-01        NaN  \n",
       " 3   3.08E-07   1.49E-07   4.52E-08   3.75E-08        NaN  \n",
       " 4   9.87E-03   2.44E-02   6.88E-03   3.16E-03        NaN  \n",
       " 5   4.76E-03   2.55E-03   5.30E-04   2.63E-03        NaN  \n",
       " 6   1.48E-01   3.51E-01   1.32E-01   3.54E-02        NaN  \n",
       " 7   1.11E-05   1.84E-06   4.92E-08   1.17E-05        NaN  \n",
       " 8       3.48       25.3       1.15   4.43E-01        NaN  ,\n",
       " Empty DataFrame\n",
       " Columns: [Unnamed: 0]\n",
       " Index: [],\n",
       " Empty DataFrame\n",
       " Columns: [Unnamed: 0]\n",
       " Index: []]"
      ]
     },
     "execution_count": 12,
     "metadata": {},
     "output_type": "execute_result"
    }
   ],
   "source": [
    "#tabula.io.build_options(pages = 13,area = None)\n",
    "file = os.listdir(path)[4]\n",
    "a = tabula.read_pdf(os.path.join(path, file),\n",
    "                    pages = 11, lattice = True)\n",
    "a"
   ]
  },
  {
   "cell_type": "code",
   "execution_count": 84,
   "id": "governing-greene",
   "metadata": {},
   "outputs": [],
   "source": [
    "# define a function to extract the table which takes page no and area? as input\n",
    "\n",
    "     \n",
    "    "
   ]
  },
  {
   "cell_type": "code",
   "execution_count": 116,
   "id": "progressive-olive",
   "metadata": {},
   "outputs": [],
   "source": [
    "def extraction(path, pg, table_no = 0):\n",
    "        #print(pdf_path)\n",
    "        table = tabula.read_pdf(pdf_path, pages = pg)[table_no]\n",
    "        print(table)\n",
    "        row1 = int(input(\"Start Row: \"))\n",
    "        row2 = int(input(\"End Row: \"))\n",
    "        col1 = int(input(\"Start Column: \"))\n",
    "        col2 = int(input(\"End Column: \"))\n",
    "        print(table.iloc[row1:row2, col1:col2])\n",
    "        return table.iloc[row1:row2, col1:col2]\n",
    "    "
   ]
  },
  {
   "cell_type": "code",
   "execution_count": 117,
   "id": "artistic-makeup",
   "metadata": {},
   "outputs": [
    {
     "name": "stdout",
     "output_type": "stream",
     "text": [
      "F:\\KARTIK\\2021\\Cardinal LCA\\Canada/Gypsum/CTG\\CTG_Easi-Lite_EPD_Montreal.pdf\n",
      "Page No: 17\n",
      "Table No: 0\n",
      "        Global Warming kg CO2  Unnamed: 0    Unnamed: 1    Unnamed: 2  \\\n",
      "0          Potential (GWP) eq  142.000000  5.490000e+00  8.690000e+01   \n",
      "1   Ozone depletion kg CFC 11         NaN           NaN           NaN   \n",
      "2                    (ODP) eq    0.000002  4.860000e-10  1.960000e-07   \n",
      "3               Acidification         NaN           NaN           NaN   \n",
      "4                   kg SO2 eq         NaN           NaN           NaN   \n",
      "5              potential (AP)    0.302000  5.160000e-02  1.150000e-01   \n",
      "6              Eutrophication         NaN           NaN           NaN   \n",
      "7    potential (EP) kg N - eq    0.155000  2.830000e-03  2.370000e-02   \n",
      "8               Photochemical         NaN           NaN           NaN   \n",
      "9   ozone creation kg O3 - eq    4.420000  1.020000e+00  2.490000e+00   \n",
      "10                   (POCP) -         NaN           NaN           NaN   \n",
      "11          Abiotic depletion         NaN           NaN           NaN   \n",
      "12       potential for fossil         NaN           NaN           NaN   \n",
      "13         resources (ADP- MJ  337.000000  8.690000e+00  1.930000e+02   \n",
      "14              fossil fuels)         NaN           NaN           NaN   \n",
      "\n",
      "    Unnamed: 3    Unnamed: 4    Unnamed: 5    Unnamed: 6    Unnamed: 7  \n",
      "0          0.0  3.160000e+00  5.720000e+00  1.250000e+00  5.290000e+00  \n",
      "1          NaN           NaN           NaN           NaN           NaN  \n",
      "2          0.0  2.150000e-11  5.070000e-10  9.990000e-12  5.520000e-11  \n",
      "3          NaN           NaN           NaN           NaN           NaN  \n",
      "4          NaN           NaN           NaN           NaN           NaN  \n",
      "5          0.0  1.480000e-02  5.380000e-02  2.830000e-03  3.450000e-02  \n",
      "6          NaN           NaN           NaN           NaN           NaN  \n",
      "7          0.0  2.890000e-04  2.960000e-03  1.940000e-04  2.900000e-03  \n",
      "8          NaN           NaN           NaN           NaN           NaN  \n",
      "9          0.0  1.330000e-01  1.060000e+00  3.680000e-02  6.700000e-01  \n",
      "10         NaN           NaN           NaN           NaN           NaN  \n",
      "11         NaN           NaN           NaN           NaN           NaN  \n",
      "12         NaN           NaN           NaN           NaN           NaN  \n",
      "13         0.0  5.250000e+00  9.060000e+00  1.010000e+00  8.590000e+00  \n",
      "14         NaN           NaN           NaN           NaN           NaN  \n",
      "Start Row: 0\n",
      "End Row: 1\n",
      "Start Column: 0\n",
      "End Column: 9\n",
      "  Global Warming kg CO2  Unnamed: 0  Unnamed: 1  Unnamed: 2  Unnamed: 3  \\\n",
      "0    Potential (GWP) eq       142.0        5.49        86.9         0.0   \n",
      "\n",
      "   Unnamed: 4  Unnamed: 5  Unnamed: 6  Unnamed: 7  \n",
      "0        3.16        5.72        1.25        5.29  \n",
      "F:\\KARTIK\\2021\\Cardinal LCA\\Canada/Gypsum/CTG\\CTG_M2Tech_EPD_Montreal.pdf\n",
      "Page No: 17\n",
      "Table No: 0\n",
      "                       Global Warming kg CO2    Unnamed: 0    Unnamed: 1  \\\n",
      "0                         Potential (GWP) eq  1.740000e+02  6.300000e+00   \n",
      "1        Ozone depletion  (ODP) kg CFC 11 eq  7.470000e-07  5.580000e-10   \n",
      "2                       Acidification kg SO2           NaN           NaN   \n",
      "3                          potential (AP) eq  3.060000e-01  5.930000e-02   \n",
      "4   Eutrophication  potential (EP) kg N - eq  1.090000e-01  3.260000e-03   \n",
      "5                      Photochemical kg O3 -           NaN           NaN   \n",
      "6                          ozone creation eq  4.870000e+00  1.170000e+00   \n",
      "7                                   (POCP) -           NaN           NaN   \n",
      "8                          Abiotic depletion           NaN           NaN   \n",
      "9   potential for fossil  resources (ADP- MJ  4.230000e+02  9.980000e+00   \n",
      "10                             fossil fuels)           NaN           NaN   \n",
      "\n",
      "      Unnamed: 2  Unnamed: 3    Unnamed: 4    Unnamed: 5    Unnamed: 6  \\\n",
      "0   9.040000e+01         0.0  3.610000e+00  6.540000e+00  1.430000e+00   \n",
      "1   7.600000e-08         0.0  2.450000e-11  5.790000e-10  1.140000e-11   \n",
      "2            NaN         NaN           NaN           NaN           NaN   \n",
      "3   1.180000e-01         0.0  1.690000e-02  6.150000e-02  3.230000e-03   \n",
      "4   1.930000e-02         0.0  3.300000e-04  3.380000e-03  2.210000e-04   \n",
      "5            NaN         NaN           NaN           NaN           NaN   \n",
      "6   2.580000e+00         0.0  1.520000e-01  1.210000e+00  4.210000e-02   \n",
      "7            NaN         NaN           NaN           NaN           NaN   \n",
      "8            NaN         NaN           NaN           NaN           NaN   \n",
      "9   2.020000e+02         0.0  6.000000e+00  1.040000e+01  1.160000e+00   \n",
      "10           NaN         NaN           NaN           NaN           NaN   \n",
      "\n",
      "      Unnamed: 7  \n",
      "0   6.040000e+00  \n",
      "1   6.310000e-11  \n",
      "2            NaN  \n",
      "3   3.950000e-02  \n",
      "4   3.320000e-03  \n",
      "5            NaN  \n",
      "6   7.650000e-01  \n",
      "7            NaN  \n",
      "8            NaN  \n",
      "9   9.820000e+00  \n",
      "10           NaN  \n",
      "Start Row: 0\n",
      "End Row: 1\n",
      "Start Column: 0\n",
      "End Column: 9\n",
      "  Global Warming kg CO2  Unnamed: 0  Unnamed: 1  Unnamed: 2  Unnamed: 3  \\\n",
      "0    Potential (GWP) eq       174.0         6.3        90.4         0.0   \n",
      "\n",
      "   Unnamed: 4  Unnamed: 5  Unnamed: 6  Unnamed: 7  \n",
      "0        3.61        6.54        1.43        6.04  \n"
     ]
    }
   ],
   "source": [
    "dfs = []\n",
    "for file in os.listdir(path):\n",
    "    pdf_path = os.path.join(os.getcwd(), path, file)\n",
    "    print(pdf_path)\n",
    "    pg = int(input(\"Page No: \"))\n",
    "    table_no = int(input(\"Table No: \"))\n",
    "    table = extraction(path, pg, table_no)\n",
    "    dfs.append(table)"
   ]
  },
  {
   "cell_type": "code",
   "execution_count": null,
   "id": "desirable-davis",
   "metadata": {},
   "outputs": [],
   "source": [
    "# data = pd.DataFrame(dfs[0])\n",
    "# table = pd.DataFrame(dfs[1])\n",
    "# pd.concat([data, table], ignore_index = True)"
   ]
  },
  {
   "cell_type": "code",
   "execution_count": 93,
   "id": "dress-interest",
   "metadata": {},
   "outputs": [],
   "source": []
  },
  {
   "cell_type": "code",
   "execution_count": 118,
   "id": "mighty-absence",
   "metadata": {},
   "outputs": [
    {
     "data": {
      "text/plain": [
       "2"
      ]
     },
     "execution_count": 118,
     "metadata": {},
     "output_type": "execute_result"
    }
   ],
   "source": [
    "for i in range(0, len(dfs)):\n",
    "              dfs[i] = pd.DataFrame(dfs[i])\n",
    "len(dfs)"
   ]
  },
  {
   "cell_type": "code",
   "execution_count": 119,
   "id": "posted-authentication",
   "metadata": {},
   "outputs": [
    {
     "data": {
      "text/html": [
       "<div>\n",
       "<style scoped>\n",
       "    .dataframe tbody tr th:only-of-type {\n",
       "        vertical-align: middle;\n",
       "    }\n",
       "\n",
       "    .dataframe tbody tr th {\n",
       "        vertical-align: top;\n",
       "    }\n",
       "\n",
       "    .dataframe thead th {\n",
       "        text-align: right;\n",
       "    }\n",
       "</style>\n",
       "<table border=\"1\" class=\"dataframe\">\n",
       "  <thead>\n",
       "    <tr style=\"text-align: right;\">\n",
       "      <th></th>\n",
       "      <th>Global Warming kg CO2</th>\n",
       "      <th>Unnamed: 0</th>\n",
       "      <th>Unnamed: 1</th>\n",
       "      <th>Unnamed: 2</th>\n",
       "      <th>Unnamed: 3</th>\n",
       "      <th>Unnamed: 4</th>\n",
       "      <th>Unnamed: 5</th>\n",
       "      <th>Unnamed: 6</th>\n",
       "      <th>Unnamed: 7</th>\n",
       "    </tr>\n",
       "  </thead>\n",
       "  <tbody>\n",
       "    <tr>\n",
       "      <th>0</th>\n",
       "      <td>Potential (GWP) eq</td>\n",
       "      <td>142.0</td>\n",
       "      <td>5.49</td>\n",
       "      <td>86.9</td>\n",
       "      <td>0.0</td>\n",
       "      <td>3.16</td>\n",
       "      <td>5.72</td>\n",
       "      <td>1.25</td>\n",
       "      <td>5.29</td>\n",
       "    </tr>\n",
       "  </tbody>\n",
       "</table>\n",
       "</div>"
      ],
      "text/plain": [
       "  Global Warming kg CO2  Unnamed: 0  Unnamed: 1  Unnamed: 2  Unnamed: 3  \\\n",
       "0    Potential (GWP) eq       142.0        5.49        86.9         0.0   \n",
       "\n",
       "   Unnamed: 4  Unnamed: 5  Unnamed: 6  Unnamed: 7  \n",
       "0        3.16        5.72        1.25        5.29  "
      ]
     },
     "execution_count": 119,
     "metadata": {},
     "output_type": "execute_result"
    }
   ],
   "source": [
    "dfs[0]"
   ]
  },
  {
   "cell_type": "code",
   "execution_count": 124,
   "id": "approximate-hawaiian",
   "metadata": {},
   "outputs": [
    {
     "data": {
      "text/html": [
       "<div>\n",
       "<style scoped>\n",
       "    .dataframe tbody tr th:only-of-type {\n",
       "        vertical-align: middle;\n",
       "    }\n",
       "\n",
       "    .dataframe tbody tr th {\n",
       "        vertical-align: top;\n",
       "    }\n",
       "\n",
       "    .dataframe thead th {\n",
       "        text-align: right;\n",
       "    }\n",
       "</style>\n",
       "<table border=\"1\" class=\"dataframe\">\n",
       "  <thead>\n",
       "    <tr style=\"text-align: right;\">\n",
       "      <th></th>\n",
       "      <th>Global Warming kg CO2</th>\n",
       "      <th>Unnamed: 0</th>\n",
       "      <th>Unnamed: 1</th>\n",
       "      <th>Unnamed: 2</th>\n",
       "      <th>Unnamed: 3</th>\n",
       "      <th>Unnamed: 4</th>\n",
       "      <th>Unnamed: 5</th>\n",
       "      <th>Unnamed: 6</th>\n",
       "      <th>Unnamed: 7</th>\n",
       "    </tr>\n",
       "  </thead>\n",
       "  <tbody>\n",
       "    <tr>\n",
       "      <th>0</th>\n",
       "      <td>Potential (GWP) eq</td>\n",
       "      <td>142.0</td>\n",
       "      <td>5.49</td>\n",
       "      <td>86.9</td>\n",
       "      <td>0.0</td>\n",
       "      <td>3.16</td>\n",
       "      <td>5.72</td>\n",
       "      <td>1.25</td>\n",
       "      <td>5.29</td>\n",
       "    </tr>\n",
       "    <tr>\n",
       "      <th>1</th>\n",
       "      <td>Potential (GWP) eq</td>\n",
       "      <td>174.0</td>\n",
       "      <td>6.30</td>\n",
       "      <td>90.4</td>\n",
       "      <td>0.0</td>\n",
       "      <td>3.61</td>\n",
       "      <td>6.54</td>\n",
       "      <td>1.43</td>\n",
       "      <td>6.04</td>\n",
       "    </tr>\n",
       "  </tbody>\n",
       "</table>\n",
       "</div>"
      ],
      "text/plain": [
       "  Global Warming kg CO2  Unnamed: 0  Unnamed: 1  Unnamed: 2  Unnamed: 3  \\\n",
       "0    Potential (GWP) eq       142.0        5.49        86.9         0.0   \n",
       "1    Potential (GWP) eq       174.0        6.30        90.4         0.0   \n",
       "\n",
       "   Unnamed: 4  Unnamed: 5  Unnamed: 6  Unnamed: 7  \n",
       "0        3.16        5.72        1.25        5.29  \n",
       "1        3.61        6.54        1.43        6.04  "
      ]
     },
     "execution_count": 124,
     "metadata": {},
     "output_type": "execute_result"
    }
   ],
   "source": [
    "x = pd.concat(dfs, ignore_index = True)\n",
    "x\n"
   ]
  },
  {
   "cell_type": "code",
   "execution_count": 116,
   "id": "alert-practice",
   "metadata": {},
   "outputs": [],
   "source": [
    "x = x.drop(['Unnamed: 0', 'Unnamed: 1', 'Unnamed: 2'], axis = 1)"
   ]
  },
  {
   "cell_type": "code",
   "execution_count": 125,
   "id": "native-reducing",
   "metadata": {},
   "outputs": [],
   "source": [
    "x.rename(columns = {\"Global Warming kg CO2\":\"GWP\",\n",
    "                        \"Unnamed: 0\" : \"Total A1-A3\",\n",
    "                        \"Unnamed: 1\" : \"A4\", \n",
    "                        \"Unnamed: 2\" : \"A5\", \n",
    "                        \"Unnamed: 3\" : \"B1-B7\", \n",
    "                        \"Unnamed: 4\" : \"C1\", \n",
    "                        \"Unnamed: 5\" : \"C2\", \n",
    "                        \"Unnamed: 6\" : \"C3\",\n",
    "                        \"Unnamed: 7\" : \"C4\"}, inplace = True )\n"
   ]
  },
  {
   "cell_type": "code",
   "execution_count": 126,
   "id": "sixth-presence",
   "metadata": {},
   "outputs": [
    {
     "data": {
      "text/html": [
       "<div>\n",
       "<style scoped>\n",
       "    .dataframe tbody tr th:only-of-type {\n",
       "        vertical-align: middle;\n",
       "    }\n",
       "\n",
       "    .dataframe tbody tr th {\n",
       "        vertical-align: top;\n",
       "    }\n",
       "\n",
       "    .dataframe thead th {\n",
       "        text-align: right;\n",
       "    }\n",
       "</style>\n",
       "<table border=\"1\" class=\"dataframe\">\n",
       "  <thead>\n",
       "    <tr style=\"text-align: right;\">\n",
       "      <th></th>\n",
       "      <th>GWP</th>\n",
       "      <th>Total A1-A3</th>\n",
       "      <th>A4</th>\n",
       "      <th>A5</th>\n",
       "      <th>B1-B7</th>\n",
       "      <th>C1</th>\n",
       "      <th>C2</th>\n",
       "      <th>C3</th>\n",
       "      <th>C4</th>\n",
       "    </tr>\n",
       "  </thead>\n",
       "  <tbody>\n",
       "    <tr>\n",
       "      <th>0</th>\n",
       "      <td>Potential (GWP) eq</td>\n",
       "      <td>142.0</td>\n",
       "      <td>5.49</td>\n",
       "      <td>86.9</td>\n",
       "      <td>0.0</td>\n",
       "      <td>3.16</td>\n",
       "      <td>5.72</td>\n",
       "      <td>1.25</td>\n",
       "      <td>5.29</td>\n",
       "    </tr>\n",
       "    <tr>\n",
       "      <th>1</th>\n",
       "      <td>Potential (GWP) eq</td>\n",
       "      <td>174.0</td>\n",
       "      <td>6.30</td>\n",
       "      <td>90.4</td>\n",
       "      <td>0.0</td>\n",
       "      <td>3.61</td>\n",
       "      <td>6.54</td>\n",
       "      <td>1.43</td>\n",
       "      <td>6.04</td>\n",
       "    </tr>\n",
       "  </tbody>\n",
       "</table>\n",
       "</div>"
      ],
      "text/plain": [
       "                  GWP  Total A1-A3    A4    A5  B1-B7    C1    C2    C3    C4\n",
       "0  Potential (GWP) eq        142.0  5.49  86.9    0.0  3.16  5.72  1.25  5.29\n",
       "1  Potential (GWP) eq        174.0  6.30  90.4    0.0  3.61  6.54  1.43  6.04"
      ]
     },
     "execution_count": 126,
     "metadata": {},
     "output_type": "execute_result"
    }
   ],
   "source": [
    "x"
   ]
  },
  {
   "cell_type": "code",
   "execution_count": 67,
   "id": "intermediate-silicon",
   "metadata": {},
   "outputs": [
    {
     "data": {
      "text/html": [
       "<div>\n",
       "<style scoped>\n",
       "    .dataframe tbody tr th:only-of-type {\n",
       "        vertical-align: middle;\n",
       "    }\n",
       "\n",
       "    .dataframe tbody tr th {\n",
       "        vertical-align: top;\n",
       "    }\n",
       "\n",
       "    .dataframe thead th {\n",
       "        text-align: right;\n",
       "    }\n",
       "</style>\n",
       "<table border=\"1\" class=\"dataframe\">\n",
       "  <thead>\n",
       "    <tr style=\"text-align: right;\">\n",
       "      <th></th>\n",
       "      <th>0</th>\n",
       "      <th>1</th>\n",
       "      <th>2</th>\n",
       "      <th>3</th>\n",
       "      <th>4</th>\n",
       "      <th>5</th>\n",
       "      <th>6</th>\n",
       "      <th>7</th>\n",
       "      <th>8</th>\n",
       "      <th>9</th>\n",
       "      <th>10</th>\n",
       "    </tr>\n",
       "  </thead>\n",
       "  <tbody>\n",
       "    <tr>\n",
       "      <th>1</th>\n",
       "      <td>NaN</td>\n",
       "      <td>NaN</td>\n",
       "      <td>NaN</td>\n",
       "      <td>NaN</td>\n",
       "      <td>NaN</td>\n",
       "      <td>NaN</td>\n",
       "      <td>NaN</td>\n",
       "      <td>NaN</td>\n",
       "      <td>GWP kg CO2 eq</td>\n",
       "      <td>NaN</td>\n",
       "      <td>22.1</td>\n",
       "    </tr>\n",
       "    <tr>\n",
       "      <th>5</th>\n",
       "      <td>GWP Global warming potential kg CO  eq 1.96E+012</td>\n",
       "      <td>NaN</td>\n",
       "      <td>2.59E+01 1.66E+01</td>\n",
       "      <td>2.55E+01</td>\n",
       "      <td>NaN</td>\n",
       "      <td>NaN</td>\n",
       "      <td>NaN</td>\n",
       "      <td>NaN</td>\n",
       "      <td>NaN</td>\n",
       "      <td>NaN</td>\n",
       "      <td>NaN</td>\n",
       "    </tr>\n",
       "    <tr>\n",
       "      <th>7</th>\n",
       "      <td>NaN</td>\n",
       "      <td>NaN</td>\n",
       "      <td>NaN</td>\n",
       "      <td>NaN</td>\n",
       "      <td>NaN</td>\n",
       "      <td>GWP Global Warming Potential</td>\n",
       "      <td>kg CO  eq.</td>\n",
       "      <td>2.67E+01 4.73E+01 6.45E+01</td>\n",
       "      <td>NaN</td>\n",
       "      <td>NaN</td>\n",
       "      <td>NaN</td>\n",
       "    </tr>\n",
       "  </tbody>\n",
       "</table>\n",
       "</div>"
      ],
      "text/plain": [
       "                                                 0    1                  2   \\\n",
       "1                                               NaN  NaN                NaN   \n",
       "5  GWP Global warming potential kg CO  eq 1.96E+012  NaN  2.59E+01 1.66E+01   \n",
       "7                                               NaN  NaN                NaN   \n",
       "\n",
       "         3    4                             5           6   \\\n",
       "1       NaN  NaN                           NaN         NaN   \n",
       "5  2.55E+01  NaN                           NaN         NaN   \n",
       "7       NaN  NaN  GWP Global Warming Potential  kg CO  eq.   \n",
       "\n",
       "                           7              8    9     10  \n",
       "1                         NaN  GWP kg CO2 eq  NaN  22.1  \n",
       "5                         NaN            NaN  NaN   NaN  \n",
       "7  2.67E+01 4.73E+01 6.45E+01            NaN  NaN   NaN  "
      ]
     },
     "execution_count": 67,
     "metadata": {},
     "output_type": "execute_result"
    }
   ],
   "source": [
    "x = x.T\n",
    "x"
   ]
  },
  {
   "cell_type": "code",
   "execution_count": 127,
   "id": "juvenile-party",
   "metadata": {},
   "outputs": [],
   "source": [
    "x.to_csv(path + \".csv\")"
   ]
  },
  {
   "cell_type": "code",
   "execution_count": 179,
   "id": "passive-mother",
   "metadata": {},
   "outputs": [
    {
     "data": {
      "text/plain": [
       "True"
      ]
     },
     "execution_count": 179,
     "metadata": {},
     "output_type": "execute_result"
    }
   ],
   "source": [
    "#Enter the pdf path\n",
    "pdf_path = os.path.join(os.getcwd(),'Wood - Unused', 'QWEB_EPD_RoofTruss_RevisedVersion1.2_July2019_with_label_vforCSA.pdf')\n",
    "os.path.exists(pdf_path)"
   ]
  },
  {
   "cell_type": "code",
   "execution_count": 180,
   "id": "sapphire-trigger",
   "metadata": {},
   "outputs": [],
   "source": [
    "#Enter the page no\n",
    "pgno = 14\n",
    "\n",
    "#Enter the position of the table / table no\n",
    "table_no = 1\n",
    "\n"
   ]
  },
  {
   "cell_type": "code",
   "execution_count": 177,
   "id": "atlantic-adventure",
   "metadata": {},
   "outputs": [],
   "source": [
    "#Extract the table\n",
    "table = tabula.read_pdf(pdf_path, pages = pgno, stream = True)"
   ]
  },
  {
   "cell_type": "code",
   "execution_count": 188,
   "id": "funded-sharp",
   "metadata": {},
   "outputs": [
    {
     "data": {
      "text/html": [
       "<div>\n",
       "<style scoped>\n",
       "    .dataframe tbody tr th:only-of-type {\n",
       "        vertical-align: middle;\n",
       "    }\n",
       "\n",
       "    .dataframe tbody tr th {\n",
       "        vertical-align: top;\n",
       "    }\n",
       "\n",
       "    .dataframe thead th {\n",
       "        text-align: right;\n",
       "    }\n",
       "</style>\n",
       "<table border=\"1\" class=\"dataframe\">\n",
       "  <thead>\n",
       "    <tr style=\"text-align: right;\">\n",
       "      <th></th>\n",
       "      <th>FPI carbon tool parameters</th>\n",
       "      <th>Units</th>\n",
       "      <th>Wood products in 1m3 of roof truss</th>\n",
       "      <th>Total</th>\n",
       "    </tr>\n",
       "  </thead>\n",
       "  <tbody>\n",
       "    <tr>\n",
       "      <th>21</th>\n",
       "      <td>Sequestration, net of GHG emissions</td>\n",
       "      <td>kg CO2 eq.</td>\n",
       "      <td>-464.5 -2.13E-02 -3.66E-02</td>\n",
       "      <td>-464.6</td>\n",
       "    </tr>\n",
       "  </tbody>\n",
       "</table>\n",
       "</div>"
      ],
      "text/plain": [
       "             FPI carbon tool parameters       Units  \\\n",
       "21  Sequestration, net of GHG emissions  kg CO2 eq.   \n",
       "\n",
       "   Wood products in 1m3 of roof truss  Total  \n",
       "21         -464.5 -2.13E-02 -3.66E-02 -464.6  "
      ]
     },
     "execution_count": 188,
     "metadata": {},
     "output_type": "execute_result"
    }
   ],
   "source": [
    "#View the table\n",
    "\n",
    "table[0].iloc[[-1]]"
   ]
  },
  {
   "cell_type": "code",
   "execution_count": null,
   "id": "supposed-williams",
   "metadata": {},
   "outputs": [],
   "source": [
    "#If satisified, enter the row number"
   ]
  },
  {
   "cell_type": "code",
   "execution_count": null,
   "id": "cross-blank",
   "metadata": {},
   "outputs": [],
   "source": [
    "# Append the row to the list"
   ]
  },
  {
   "cell_type": "markdown",
   "id": "editorial-showcase",
   "metadata": {},
   "source": [
    "## APPROACH #2 \n",
    "### Using Regular Expressions"
   ]
  },
  {
   "cell_type": "code",
   "execution_count": null,
   "id": "desirable-november",
   "metadata": {},
   "outputs": [],
   "source": [
    "pip install pdfplumber"
   ]
  },
  {
   "cell_type": "code",
   "execution_count": 202,
   "id": "located-timothy",
   "metadata": {},
   "outputs": [],
   "source": [
    "import pdfplumber\n",
    "import requests\n",
    "import re"
   ]
  },
  {
   "cell_type": "code",
   "execution_count": 226,
   "id": "color-helena",
   "metadata": {},
   "outputs": [],
   "source": [
    "with pdfplumber.open(pdf_path) as pdf:\n",
    "    page = pdf.pages[3]\n",
    "    text = page.extract_text()"
   ]
  },
  {
   "cell_type": "code",
   "execution_count": 227,
   "id": "beautiful-float",
   "metadata": {},
   "outputs": [
    {
     "data": {
      "text/plain": [
       "True"
      ]
     },
     "execution_count": 227,
     "metadata": {},
     "output_type": "execute_result"
    }
   ],
   "source": [
    "pdf_name = 'QWEB_EPD_GES_final_amended_2020-08-06.pdf'\n",
    "pdf_path = os.path.join(os.getcwd(), 'Wood - Unused', pdf_name)\n",
    "os.path.exists(pdf_path)\n",
    "#pdf_path"
   ]
  },
  {
   "cell_type": "code",
   "execution_count": 238,
   "id": "champion-holder",
   "metadata": {},
   "outputs": [],
   "source": [
    "exp1 = re.compile(r'Global warming .*')\n",
    "exp2 = re.compile(r'GWP.*')"
   ]
  },
  {
   "cell_type": "code",
   "execution_count": 239,
   "id": "massive-superintendent",
   "metadata": {},
   "outputs": [
    {
     "name": "stdout",
     "output_type": "stream",
     "text": [
      "  \n",
      "Environmental impacts  \n",
      "The environmental impacts of 1 cubic meter of glued engineered softwood over the production stage (A1 to \n",
      "A3 modules1) are summarized below for the main environmental indicators (based on life cycle impact \n",
      "assessment method TRACI 2.1). Refer to the LCA report or full EPD for more detailed results. Results on resource \n",
      "use, waste generated, and output flows are presented in the full EPD. \n",
      "Indicators  Total for 1 m3 of eng.  At the glued engineered \n",
      "wood (A1 to A3)  softwood plant (A3.3) \n",
      "Global warming (kg CO2 eq.)  202  65 \n",
      "Acidification of land and water (kg SO2 eq.)  2  0.4 \n",
      "Eutrophication (kg N eq.)  0.41  0.13 \n",
      "Smog (kg O3 eq.)  44  7 \n",
      "Ozone depletion (kg CFC-11 eq.)  4.4 x 10-5  1.3 x 10-5 \n",
      " \n",
      "Relative contribution of each life cycle module to the overall  These results are representative of the \n",
      "environmental impacts  glued engineered softwood available in \n",
      "Quebec, Canada. They are based on \n",
      "0% 20% 40% 60% 80% 100% data  provided  by  3  manufacturers \n",
      "Global warming potential which represent approximately 80% of \n",
      "Acidification potential the production of small- and medium-\n",
      "Eutrophication potential sized QWEB members. \n",
      "Smog creation potential\n",
      "Data  was  collected  from  glued \n",
      "Ozone depletion potential\n",
      "engineered softwood manufacturers for \n",
      "their  operations  occurring  during  a  1-\n",
      "Raw material supply\n",
      "year period between May 2015 and July \n",
      "Transport to softwood lumber manufacturing plants\n",
      "Manufacturing of lumber and transport 2017. \n",
      "Manufacturing of glued engineered softwood\n",
      " \n",
      "1 A1 to A3 modules cover the following processes: raw material supply (forest management, logging, planting), transport of \n",
      "raw materials (transportation from forests and other suppliers to softwood lumber manufacturing plants), and manufacturing \n",
      "(production of lumber, transport to glued engineered softwood plants and production of glued engineered softwood).  \n",
      "    For more information: www.quebecwoodpexport.com     \n",
      " \n",
      " \n",
      " \n"
     ]
    }
   ],
   "source": [
    "print(text)"
   ]
  },
  {
   "cell_type": "code",
   "execution_count": 240,
   "id": "unauthorized-tampa",
   "metadata": {},
   "outputs": [],
   "source": [
    "for row in text.split('\\n'):\n",
    "    if exp.match(row) :\n",
    "        print(row)"
   ]
  },
  {
   "cell_type": "code",
   "execution_count": null,
   "id": "occupied-dominant",
   "metadata": {},
   "outputs": [],
   "source": []
  }
 ],
 "metadata": {
  "kernelspec": {
   "display_name": "Python 3",
   "language": "python",
   "name": "python3"
  },
  "language_info": {
   "codemirror_mode": {
    "name": "ipython",
    "version": 3
   },
   "file_extension": ".py",
   "mimetype": "text/x-python",
   "name": "python",
   "nbconvert_exporter": "python",
   "pygments_lexer": "ipython3",
   "version": "3.7.0"
  }
 },
 "nbformat": 4,
 "nbformat_minor": 5
}
