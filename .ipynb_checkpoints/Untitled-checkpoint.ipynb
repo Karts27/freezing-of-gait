{
 "cells": [
  {
   "cell_type": "code",
   "execution_count": 33,
   "id": "apart-deputy",
   "metadata": {},
   "outputs": [
    {
     "data": {
      "text/plain": [
       "'F:\\\\KARTIK\\\\2021\\\\Freezing of Gait'"
      ]
     },
     "execution_count": 33,
     "metadata": {},
     "output_type": "execute_result"
    }
   ],
   "source": [
    "#!pip install imblearn\n",
    "import pandas as pd\n",
    "import numpy as np\n",
    "import os\n",
    "import pickle\n",
    "import sys\n",
    "import math\n",
    "from sklearn.preprocessing import normalize\n",
    "from sklearn.metrics import confusion_matrix, classification_report\n",
    "import warnings\n",
    "import matplotlib.pyplot as plt\n",
    "warnings.simplefilter(action='ignore', category=FutureWarning)\n",
    "from sklearn.model_selection import train_test_split\n",
    "from sklearn.model_selection import cross_val_score\n",
    "from imblearn.over_sampling import SMOTE\n",
    "from sklearn.ensemble import RandomForestClassifier, AdaBoostClassifier\n",
    "from sklearn.svm import SVC\n",
    "from sklearn.neighbors import KNeighborsClassifier\n",
    "os.getcwd()"
   ]
  },
  {
   "cell_type": "code",
   "execution_count": 7,
   "id": "simple-south",
   "metadata": {},
   "outputs": [],
   "source": [
    "data_path = os.path.join(\n",
    "                    os.getcwd(),\n",
    "                    'dataset_fog_release',\n",
    "                    'dataset',\n",
    "                    'features'\n",
    ")\n",
    "if not os.path.exists(data_path):\n",
    "    print(\"Path Error\")"
   ]
  },
  {
   "cell_type": "code",
   "execution_count": 17,
   "id": "increased-recruitment",
   "metadata": {},
   "outputs": [],
   "source": [
    "def normalize_data(df):\n",
    "    a = df.drop(columns = ['0'])\n",
    "    for i in a.columns.to_list():\n",
    "        mean = df[i].mean()\n",
    "        std = df[i].std()\n",
    "        df[i] = (df[i] - mean) / std\n",
    "        return df\n",
    "\n",
    "def rfe(model, X_train, y_train):\n",
    "    from sklearn.feature_selection import RFE\n",
    "    selector = RFE(model,60,1,1)\n",
    "    selector.fit(X_train,y_train)\n",
    "    print(selector.ranking_)\n",
    "    y_p = selector.predict(X_test)\n",
    "    print (confusion_matrix(y_test,y_p))\n",
    "    print (classification_report(y_test,y_p,digits = 5))\n",
    "    \n",
    "def getsize(model):   \n",
    "    p = pickle.dumps(model)\n",
    "    return sys.getsizeof(p)\n",
    "\n",
    "def getfeatures(model,X_train,y_train):\n",
    "    from sklearn.feature_selection import RFE\n",
    "    model = DecisionTreeClassifier()\n",
    "    selector = RFE(model,60,1)\n",
    "    selector.fit(X_train,y_train)\n",
    "    col = []\n",
    "    for i in range(len(selector.ranking_)):\n",
    "        if selector.ranking_[i] == 1:\n",
    "            col.append(X_train.columns[i])\n",
    "    return col"
   ]
  },
  {
   "cell_type": "markdown",
   "id": "equal-clinic",
   "metadata": {},
   "source": [
    "Class selection :  \n",
    "The preprocessed data from Datapreprocessing.ipynb results in contains 3 classes with 10 features. However, we consider only the FOG and Normal classes modelling the problem as a binary classification problem.\n",
    "        "
   ]
  },
  {
   "cell_type": "code",
   "execution_count": 9,
   "id": "virgin-athens",
   "metadata": {},
   "outputs": [
    {
     "name": "stdout",
     "output_type": "stream",
     "text": [
      "(12658, 136) (12658, 45)\n",
      "0    10804\n",
      "1     1617\n",
      "2      237\n",
      "Name: 0, dtype: int64\n",
      "0    10804\n",
      "1     1617\n",
      "Name: 0, dtype: int64\n"
     ]
    }
   ],
   "source": [
    "\"\"\"\n",
    "0 -> WALK\n",
    "1 -> FOG\n",
    "2 -> PRE-FOG\n",
    "\n",
    "\"\"\"\n",
    "featurePath = os.getcwd()+ '/dataset_fog_release/dataset/features'\n",
    "\n",
    "windowLength = 1\n",
    "fs = 64\n",
    "readTime = os.path.join(data_path, 'time_1.csv')\n",
    "readFreq = os.path.join(data_path, 'freq_1.csv')\n",
    "\n",
    "timeDom = pd.read_csv(readTime)\n",
    "freqDom = pd.read_csv(readFreq)\n",
    "\n",
    "print (timeDom.shape,freqDom.shape)\n",
    "\n",
    "df = pd.concat([timeDom,freqDom],axis = 1)\n",
    "print (df['0'].value_counts())\n",
    "df = df[df['0'] != 2]\n",
    "print (df['0'].value_counts())\n",
    "#df = normalize_data(df)"
   ]
  },
  {
   "cell_type": "raw",
   "id": "miniature-reference",
   "metadata": {},
   "source": [
    "Train-Test Split:\n",
    "There exists a class imbalance between FOG and Normal classes. This is solved using SMOTE over sampling. Random Undersampling also works with considerable efficiency."
   ]
  },
  {
   "cell_type": "code",
   "execution_count": 10,
   "id": "correct-mystery",
   "metadata": {},
   "outputs": [
    {
     "name": "stdout",
     "output_type": "stream",
     "text": [
      "(21608, 75) (21608,)\n",
      "(15125, 75) (6483, 75) (15125,) (6483,)\n"
     ]
    }
   ],
   "source": [
    "from sklearn.model_selection import train_test_split\n",
    "from sklearn.model_selection import cross_val_score\n",
    "from imblearn.over_sampling import SMOTE\n",
    "\n",
    "# total_features = [\n",
    "\n",
    "#             7, 8, -1, 22, 37,\n",
    "#             1, 6, 15, 21, 30, \n",
    "#             2, 16, 17, 31, 36,\n",
    "#             9, 10, 23, 24, 35,\n",
    "#             45, 145, 146, 172, 173,\n",
    "#             38, 39, 147, 174, 32,\n",
    "#             3, 4, 18, 25, 33\n",
    "\n",
    "#         ]\n",
    "\n",
    "total_features = [\n",
    "        4, 19, 34, 49, 64, 79,\n",
    "        8, 23, 38, 53, 68, 83,\n",
    "        7, 22, 37, 52, 67, 82,\n",
    "        6, 21, 36, 51, 66, 81,\n",
    "        1, 16, 31, 46, 61, 76,\n",
    "        172, 173, 174, 175, 176, 177, 178, 179, 180,\n",
    "        154, 155, 156, 157, 158, 159, 160, 161, 162,\n",
    "        163, 164, 165, 166, 167, 168, 169, 170, 171, \n",
    "        136, 137, 138, 139, 140, 141, 142, 143, 144, \n",
    "        145, 146, 147, 148, 149, 150, 151, 152, 153\n",
    "]\n",
    "\n",
    "X = df.iloc[:,total_features]\n",
    "# #print(X.columns)\n",
    "y = df['0']\n",
    "\n",
    "X_resampled, y_resampled = SMOTE().fit_resample(X,y)\n",
    "print (X_resampled.shape,y_resampled.shape)\n",
    "\n",
    "X_train,X_test,y_train,y_test = train_test_split(X_resampled,y_resampled, train_size = 0.7, stratify = y_resampled)\n",
    "print (X_train.shape,X_test.shape,y_train.shape,y_test.shape)"
   ]
  },
  {
   "cell_type": "raw",
   "id": "another-dealer",
   "metadata": {},
   "source": [
    "Standard ML Model Experiments:\n",
    "The tests are conducted under various standard ML models and thier corresponding efficiencies and model sizes are reported."
   ]
  },
  {
   "cell_type": "code",
   "execution_count": 37,
   "id": "sonic-calvin",
   "metadata": {
    "scrolled": false
   },
   "outputs": [
    {
     "name": "stdout",
     "output_type": "stream",
     "text": [
      "[1 1 1 1 1 1 1 1 1 1 1 1 1 1 1]\n",
      "[[2869  372]\n",
      " [ 234 3008]]\n",
      "              precision    recall  f1-score   support\n",
      "\n",
      "           0    0.92459   0.88522   0.90448      3241\n",
      "           1    0.88994   0.92782   0.90849      3242\n",
      "\n",
      "    accuracy                        0.90652      6483\n",
      "   macro avg    0.90726   0.90652   0.90648      6483\n",
      "weighted avg    0.90726   0.90652   0.90648      6483\n",
      "\n",
      "None\n",
      "0.6396174020364085\n",
      "{'WALK': {'precision': 0.9152317880794701, 'recall': 0.6396174020364085, 'f1-score': 0.7529967308390847, 'support': 3241}, 'FoG': {'precision': 0.7230915125651968, 'recall': 0.9407772979642196, 'f1-score': 0.8176943699731903, 'support': 3242}, 'accuracy': 0.7902205768934135, 'macro avg': {'precision': 0.8191616503223335, 'recall': 0.7901973500003141, 'f1-score': 0.7853455504061375, 'support': 6483}, 'weighted avg': {'precision': 0.8191468315443361, 'recall': 0.7902205768934135, 'f1-score': 0.7853505401978338, 'support': 6483}}\n",
      "Model size is:  2386\n"
     ]
    }
   ],
   "source": [
    "# Pruned Decision Trees\n",
    "from sklearn.tree import DecisionTreeClassifier\n",
    "\n",
    "\n",
    "f1_dt = []\n",
    "# for num_ftrs in range(5, 40, 5):\n",
    "#     X = df.iloc[:,total_features[:num_ftrs]]\n",
    "#     y = df['0']\n",
    "    \n",
    "    \n",
    "#     X_resampled, y_resampled = SMOTE().fit_resample(X,y)\n",
    "#     X_train,X_test,y_train,y_test = train_test_split(X_resampled,y_resampled, train_size = 0.7, stratify = y_resampled)\n",
    "    \n",
    "    # Initiate a decision tree model\n",
    "model = DecisionTreeClassifier(max_depth = 3)#class_weight=None, \n",
    "#                             criterion='entropy',\n",
    "#                             max_depth=5,\n",
    "#                             max_features=3, \n",
    "#                             max_leaf_nodes=None,\n",
    "#                             min_impurity_decrease=0.0, \n",
    "#                             min_samples_leaf=18, \n",
    "#                             min_samples_split=10,\n",
    "#                             min_weight_fraction_leaf=0.0, \n",
    "#                             #presort=False,\n",
    "#                             random_state=2, \n",
    "#                             splitter='best'\n",
    "                            \n",
    "\n",
    "print(rfe(DecisionTreeClassifier(), X_train, y_train))\n",
    "\n",
    "X_train = X_train[getfeatures(model,X_train,y_train)]\n",
    "X_test = X_test[getfeatures(model,X_train,y_train)]\n",
    "\n",
    "\n",
    "model.fit(X_train,y_train)\n",
    "y_pred = model.predict(X_test)\n",
    "scores = cross_val_score(model,X_resampled,y_resampled,cv=10)\n",
    "    #print(\"Accuracy: %0.5f (+/- %0.5f)\" % (scores.mean(), scores.std() * 2))\n",
    "    #print (confusion_matrix(y_test,y_pred))\n",
    "tn, fp, fn, tp = confusion_matrix(y_test, y_pred).ravel()\n",
    "specificity = tn / (tn+fp)\n",
    "report_dt = classification_report(y_test,y_pred,target_names = ['WALK', 'FoG'],digits=5,output_dict = True)\n",
    "   # print (report_dt['FoG']['f1-score'])\n",
    "print(specificity)\n",
    "print(report_dt)\n",
    "f1_dt.append(specificity) \n",
    "# num = [i for i in range(5, num_ftrs + 1, 5)]\n",
    "# plt.plot( num ,f1_dt)\n",
    "# plt.xlabel(\"No. of features\")\n",
    "# plt.ylabel(\"Specificity\")\n",
    "    \n",
    "# plt.grid(True)\n",
    "# plt.show()\n",
    "print (\"Model size is: \",getsize(model))"
   ]
  },
  {
   "cell_type": "code",
   "execution_count": 38,
   "id": "valuable-permission",
   "metadata": {
    "scrolled": false
   },
   "outputs": [
    {
     "name": "stdout",
     "output_type": "stream",
     "text": [
      "0.8913915458191916\n",
      "{'WALK': {'precision': 0.9582089552238806, 'recall': 0.8913915458191916, 'f1-score': 0.9235933503836318, 'support': 3241}, 'FoG': {'precision': 0.8985005767012687, 'recall': 0.9611351017890192, 'f1-score': 0.92876304023845, 'support': 3242}, 'accuracy': 0.9262687027610674, 'macro avg': {'precision': 0.9283547659625746, 'recall': 0.9262633238041054, 'f1-score': 0.9261781953110408, 'support': 6483}, 'weighted avg': {'precision': 0.928350160966545, 'recall': 0.9262687027610674, 'f1-score': 0.9261785940222745, 'support': 6483}}\n",
      "Model size is:  22008224\n"
     ]
    }
   ],
   "source": [
    "f1_rf = []\n",
    "# for num_ftrs in range(5, 40, 5):\n",
    "#     X = df.iloc[:,total_features[:num_ftrs]]\n",
    "#     y = df['0']\n",
    "    \n",
    "    \n",
    "#     X_resampled, y_resampled = SMOTE().fit_resample(X,y)\n",
    "#     X_train,X_test,y_train,y_test = train_test_split(X_resampled,y_resampled, train_size = 0.7, stratify = y_resampled)\n",
    "    \n",
    "    # Initiate a decision tree model\n",
    "model = RandomForestClassifier(\n",
    "                        n_estimators=500,\n",
    "                        criterion='gini',\n",
    "                        max_depth=50,\n",
    "                        min_samples_split=5,\n",
    "                        min_samples_leaf=15,\n",
    "                        max_features='auto',\n",
    "                        max_leaf_nodes=None,\n",
    "                        min_impurity_split=None,\n",
    "                        bootstrap=True,\n",
    "                        n_jobs=-1,\n",
    "                        random_state=2,\n",
    "                        class_weight='balanced'\n",
    ")\n",
    "X_train = X_train[getfeatures(model,X_train,y_train)]\n",
    "X_test = X_test[getfeatures(model,X_train,y_train)]\n",
    "model.fit(X_train,y_train)\n",
    "y_pred = model.predict(X_test)\n",
    "scores = cross_val_score(model,X_resampled,y_resampled,cv=10)\n",
    "#    print(\"Accuracy: %0.5f (+/- %0.5f)\" % (scores.mean(), scores.std() * 2))\n",
    "#    print (confusion_matrix(y_test,y_pred))\n",
    "report_rf = classification_report(y_test,y_pred,target_names = ['WALK', 'FoG'],digits=5,output_dict = True  )\n",
    "tn, fp, fn, tp = confusion_matrix(y_test, y_pred).ravel()\n",
    "specificity = tn / (tn+fp)\n",
    "\n",
    "   # print (report_dt['FoG']['f1-score'])\n",
    "print(specificity)\n",
    "f1_rf.append(specificity)\n",
    "print(report_rf)\n",
    "#num = [i for i in range(5, num_ftrs + 1, 5)]\n",
    "#     plt.plot( num ,f1_rf)\n",
    "#     plt.xlabel(\"No. of features\")\n",
    "#     plt.ylabel(\"Specificity\")\n",
    "    \n",
    "#     plt.grid(True)\n",
    "#     plt.show()\n",
    "print (\"Model size is: \",getsize(model))"
   ]
  },
  {
   "cell_type": "code",
   "execution_count": 39,
   "id": "quiet-arctic",
   "metadata": {
    "scrolled": false
   },
   "outputs": [
    {
     "name": "stdout",
     "output_type": "stream",
     "text": [
      "Accuracy: 0.73279 (+/- 0.15323)\n",
      "{'WALK': {'precision': 0.9027993779160186, 'recall': 0.3582227707497686, 'f1-score': 0.5129224652087474, 'support': 3241}, 'FoG': {'precision': 0.5997690975562825, 'recall': 0.9614435533621222, 'f1-score': 0.7387131176679701, 'support': 3242}, 'accuracy': 0.6598796853308654, 'macro avg': {'precision': 0.7512842377361506, 'recall': 0.6598331620559454, 'f1-score': 0.6258177914383587, 'support': 6483}, 'weighted avg': {'precision': 0.7512608665900485, 'recall': 0.6598796853308654, 'f1-score': 0.625835205494541, 'support': 6483}}\n",
      "0.3582227707497686\n",
      "Model size is:  1578420\n"
     ]
    }
   ],
   "source": [
    "# f1_svc = []\n",
    "# for num_ftrs in range(5, 40, 5):\n",
    "#     X = df.iloc[:,total_features[:num_ftrs]]\n",
    "#     y = df['0']\n",
    "    \n",
    "    \n",
    "#     X_resampled, y_resampled = SMOTE().fit_resample(X,y)\n",
    "#     X_train,X_test,y_train,y_test = train_test_split(X_resampled,y_resampled, train_size = 0.7, stratify = y_resampled)\n",
    "    \n",
    "    # Initiate a SVC model\n",
    "model = SVC(kernel = 'rbf')\n",
    "X_train = X_train[getfeatures(model,X_train,y_train)]\n",
    "X_test = X_test[getfeatures(model,X_train,y_train)]\n",
    "model.fit(X_train,y_train)\n",
    "y_pred = model.predict(X_test)\n",
    "scores = cross_val_score(model,X_resampled,y_resampled,cv=10)\n",
    "print(\"Accuracy: %0.5f (+/- %0.5f)\" % (scores.mean(), scores.std() * 2))\n",
    "#    print (confusion_matrix(y_test,y_pred))\n",
    "report_svc = classification_report(y_test,y_pred,target_names = ['WALK', 'FoG'],digits=5, output_dict = True)\n",
    "tn, fp, fn, tp = confusion_matrix(y_test, y_pred).ravel()\n",
    "print(report_svc)\n",
    "specificity = tn / (tn+fp)\n",
    "    \n",
    "    #print (report_svc['FoG']['f1-score'])\n",
    "print(specificity)\n",
    "#f1_svc.append(specificity) \n",
    "#num = [i for i in range(5, num_ftrs + 1, 5)]\n",
    "\n",
    "print (\"Model size is: \",getsize(model))\n",
    "\n",
    "# recall -> sensitivity"
   ]
  },
  {
   "cell_type": "code",
   "execution_count": 40,
   "id": "fluid-binary",
   "metadata": {
    "scrolled": false
   },
   "outputs": [
    {
     "name": "stdout",
     "output_type": "stream",
     "text": [
      "Accuracy: 0.86310 (+/- 0.12894)\n",
      "{'WALK': {'precision': 0.8415622697126013, 'recall': 0.7047207651959272, 'f1-score': 0.7670864819479429, 'support': 3241}, 'FoG': {'precision': 0.7460864950915362, 'recall': 0.8673658235657001, 'f1-score': 0.8021680216802168, 'support': 3242}, 'accuracy': 0.7860558383464445, 'macro avg': {'precision': 0.7938243824020688, 'recall': 0.7860432943808137, 'f1-score': 0.7846272518140799, 'support': 6483}, 'weighted avg': {'precision': 0.7938170188532009, 'recall': 0.7860558383464445, 'f1-score': 0.7846299574703912, 'support': 6483}}\n",
      "0.7047207651959272\n",
      "Model size is:  3951985\n"
     ]
    }
   ],
   "source": [
    "model = KNeighborsClassifier()\n",
    "X_train = X_train[getfeatures(model,X_train,y_train)]\n",
    "X_test = X_test[getfeatures(model,X_train,y_train)]\n",
    "model.fit(X_train,y_train)\n",
    "y_pred = model.predict(X_test)\n",
    "scores = cross_val_score(model,X_resampled,y_resampled,cv=10)\n",
    "print(\"Accuracy: %0.5f (+/- %0.5f)\" % (scores.mean(), scores.std() * 2))\n",
    "#    print (confusion_matrix(y_test,y_pred))\n",
    "report_knn = classification_report(y_test,y_pred,target_names = ['WALK', 'FoG'],digits=5, output_dict = True)\n",
    "tn, fp, fn, tp = confusion_matrix(y_test, y_pred).ravel()\n",
    "print(report_knn)\n",
    "specificity = tn / (tn+fp)\n",
    "    \n",
    "    #print (report_svc['FoG']['f1-score'])\n",
    "print(specificity)\n",
    "#f1_svc.append(specificity) \n",
    "#num = [i for i in range(5, num_ftrs + 1, 5)]\n",
    "\n",
    "print (\"Model size is: \",getsize(model))"
   ]
  },
  {
   "cell_type": "code",
   "execution_count": 74,
   "id": "capable-window",
   "metadata": {},
   "outputs": [
    {
     "name": "stdout",
     "output_type": "stream",
     "text": [
      "Accuracy: 0.84482 (+/- 0.12189)\n",
      "{'WALK': {'precision': 0.8919098143236074, 'recall': 0.829990743597655, 'f1-score': 0.8598369825795109, 'support': 3241}, 'FoG': {'precision': 0.8410729737525238, 'recall': 0.8994447871684146, 'f1-score': 0.8692800715456849, 'support': 3242}, 'accuracy': 0.8647231220114144, 'macro avg': {'precision': 0.8664913940380656, 'recall': 0.8647177653830348, 'f1-score': 0.864558527062598, 'support': 6483}, 'weighted avg': {'precision': 0.8664874732575186, 'recall': 0.8647231220114144, 'f1-score': 0.8645592553588316, 'support': 6483}}\n",
      "0.829990743597655\n",
      "Model size is:  34048\n"
     ]
    }
   ],
   "source": [
    "model = AdaBoostClassifier()\n",
    "X_train = X_train[getfeatures(model,X_train,y_train)]\n",
    "X_test = X_test[getfeatures(model,X_train,y_train)]\n",
    "model.fit(X_train,y_train)\n",
    "y_pred = model.predict(X_test)\n",
    "scores = cross_val_score(model,X_resampled,y_resampled,cv=10)\n",
    "print(\"Accuracy: %0.5f (+/- %0.5f)\" % (scores.mean(), scores.std() * 2))\n",
    "#    print (confusion_matrix(y_test,y_pred))\n",
    "report_abc = classification_report(y_test,y_pred,target_names = ['WALK', 'FoG'],digits=5, output_dict = True)\n",
    "tn, fp, fn, tp = confusion_matrix(y_test, y_pred).ravel()\n",
    "print(report_abc)\n",
    "specificity = tn / (tn+fp)\n",
    "    \n",
    "    #print (report_svc['FoG']['f1-score'])\n",
    "print(specificity)\n",
    "#f1_svc.append(specificity) \n",
    "#num = [i for i in range(5, num_ftrs + 1, 5)]\n",
    "\n",
    "print (\"Model size is: \",getsize(model))"
   ]
  },
  {
   "cell_type": "code",
   "execution_count": 75,
   "id": "supposed-remains",
   "metadata": {},
   "outputs": [],
   "source": [
    "recall_values = [\n",
    "    report_dt['FoG']['recall'],\n",
    "    report_rf['FoG']['recall'],\n",
    "    report_svc['FoG']['recall'],\n",
    "    report_knn['FoG']['recall'],\n",
    "    report_abc['FoG']['recall']\n",
    "    \n",
    "]\n",
    "\n",
    "precision_values_walk = [\n",
    "    report_dt['WALK']['precision'],\n",
    "    report_rf['WALK']['precision'],\n",
    "    report_svc['WALK']['precision'],\n",
    "    report_knn['WALK']['precision'],\n",
    "    report_abc['WALK']['precision']\n",
    "    \n",
    "]\n",
    "\n",
    "accuracy_values =  [\n",
    "    report_dt['accuracy'],\n",
    "    report_rf['accuracy'],\n",
    "    report_svc['accuracy'],\n",
    "    report_knn['accuracy'],\n",
    "    report_abc['accuracy']\n",
    "]\n",
    "\n",
    "models = ['Decision Tree', 'Random Forest', 'SVC', 'KNN', 'Ada Boost Classifier']"
   ]
  },
  {
   "cell_type": "code",
   "execution_count": 71,
   "id": "jewish-hartford",
   "metadata": {},
   "outputs": [
    {
     "data": {
      "text/plain": [
       "([0, 1, 2, 3, 4],\n",
       " [Text(0, 0, ''),\n",
       "  Text(0, 0, ''),\n",
       "  Text(0, 0, ''),\n",
       "  Text(0, 0, ''),\n",
       "  Text(0, 0, '')])"
      ]
     },
     "execution_count": 71,
     "metadata": {},
     "output_type": "execute_result"
    },
    {
     "data": {
      "image/png": "[encoded data removed]",
      "text/plain": [
       "<Figure size 432x288 with 1 Axes>"
      ]
     },
     "metadata": {
      "needs_background": "light"
     },
     "output_type": "display_data"
    }
   ],
   "source": [
    "plt.plot(models, recall_values, 'o', linestyle = '--', linewidth = 0.7)\n",
    "plt.ylabel(\"Recall Values for FoG Class\")\n",
    "plt.xlabel(\"Model\")\n",
    "plt.title(\" Model vs Recall\")\n",
    "plt.xticks(rotation = 90)"
   ]
  },
  {
   "cell_type": "code",
   "execution_count": 84,
   "id": "isolated-latter",
   "metadata": {},
   "outputs": [
    {
     "data": {
      "text/plain": [
       "([0, 1, 2, 3, 4],\n",
       " [Text(0, 0, ''),\n",
       "  Text(0, 0, ''),\n",
       "  Text(0, 0, ''),\n",
       "  Text(0, 0, ''),\n",
       "  Text(0, 0, '')])"
      ]
     },
     "execution_count": 84,
     "metadata": {},
     "output_type": "execute_result"
    },
    {
     "data": {
      "image/png": "[encoded data removed]",
      "text/plain": [
       "<Figure size 432x288 with 1 Axes>"
      ]
     },
     "metadata": {
      "needs_background": "light"
     },
     "output_type": "display_data"
    }
   ],
   "source": [
    "plt.plot(models, precision_values_walk, 'b^', linestyle = '-.', linewidth = 0.7, color = 'orange')\n",
    "plt.ylabel(\"Precision Values for WALK Class\")\n",
    "plt.xlabel(\"Model\")\n",
    "plt.title(\" Model vs Precision\")\n",
    "plt.xticks(rotation = 60)"
   ]
  },
  {
   "cell_type": "code",
   "execution_count": null,
   "id": "outstanding-jimmy",
   "metadata": {},
   "outputs": [],
   "source": [
    "plt.plot(models, accuracy_values, 'o', linestyle = '--', linewidth = 0.7)\n",
    "plt.ylabel(\"Precision Values for WALK Class\")\n",
    "plt.xlabel(\"Model\")\n",
    "plt.title(\" Model vs Precision\")\n",
    "plt.xticks(rotation = 60)"
   ]
  },
  {
   "cell_type": "code",
   "execution_count": null,
   "id": "changing-convert",
   "metadata": {},
   "outputs": [],
   "source": []
  },
  {
   "cell_type": "code",
   "execution_count": null,
   "id": "behind-ireland",
   "metadata": {},
   "outputs": [],
   "source": []
  },
  {
   "cell_type": "code",
   "execution_count": null,
   "id": "documented-pressing",
   "metadata": {},
   "outputs": [],
   "source": []
  },
  {
   "cell_type": "code",
   "execution_count": null,
   "id": "accompanied-fleece",
   "metadata": {},
   "outputs": [],
   "source": []
  },
  {
   "cell_type": "code",
   "execution_count": null,
   "id": "controlling-approach",
   "metadata": {},
   "outputs": [],
   "source": []
  },
  {
   "cell_type": "code",
   "execution_count": null,
   "id": "agricultural-timing",
   "metadata": {},
   "outputs": [],
   "source": []
  },
  {
   "cell_type": "code",
   "execution_count": null,
   "id": "sexual-frequency",
   "metadata": {},
   "outputs": [],
   "source": []
  },
  {
   "cell_type": "code",
   "execution_count": null,
   "id": "conservative-marine",
   "metadata": {},
   "outputs": [],
   "source": []
  },
  {
   "cell_type": "code",
   "execution_count": null,
   "id": "qualified-greeting",
   "metadata": {},
   "outputs": [],
   "source": []
  },
  {
   "cell_type": "code",
   "execution_count": null,
   "id": "meaning-jungle",
   "metadata": {},
   "outputs": [],
   "source": []
  },
  {
   "cell_type": "code",
   "execution_count": null,
   "id": "accepted-courage",
   "metadata": {},
   "outputs": [],
   "source": []
  },
  {
   "cell_type": "code",
   "execution_count": null,
   "id": "spiritual-particular",
   "metadata": {},
   "outputs": [],
   "source": []
  },
  {
   "cell_type": "code",
   "execution_count": null,
   "id": "communist-float",
   "metadata": {},
   "outputs": [],
   "source": []
  },
  {
   "cell_type": "code",
   "execution_count": null,
   "id": "english-geography",
   "metadata": {},
   "outputs": [],
   "source": []
  },
  {
   "cell_type": "code",
   "execution_count": null,
   "id": "prescription-bottle",
   "metadata": {},
   "outputs": [],
   "source": []
  },
  {
   "cell_type": "code",
   "execution_count": null,
   "id": "clear-memorabilia",
   "metadata": {},
   "outputs": [],
   "source": []
  },
  {
   "cell_type": "code",
   "execution_count": null,
   "id": "clear-answer",
   "metadata": {},
   "outputs": [],
   "source": []
  }
 ],
 "metadata": {
  "kernelspec": {
   "display_name": "Python 3",
   "language": "python",
   "name": "python3"
  },
  "language_info": {
   "codemirror_mode": {
    "name": "ipython",
    "version": 3
   },
   "file_extension": ".py",
   "mimetype": "text/x-python",
   "name": "python",
   "nbconvert_exporter": "python",
   "pygments_lexer": "ipython3",
   "version": "3.7.0"
  }
 },
 "nbformat": 4,
 "nbformat_minor": 5
}
