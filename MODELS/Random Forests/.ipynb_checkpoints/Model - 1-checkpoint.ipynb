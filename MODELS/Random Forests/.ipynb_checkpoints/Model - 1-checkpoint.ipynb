{
 "cells": [
  {
   "cell_type": "code",
   "execution_count": 2,
   "id": "extra-cabinet",
   "metadata": {},
   "outputs": [],
   "source": [
    "import pandas as pd\n",
    "import numpy as np\n",
    "import os\n",
    "import tensorflow as tf\n",
    "from sklearn.model_selection import train_test_split, cross_val_score, StratifiedKFold\n",
    "from sklearn.preprocessing import normalize\n",
    "from sklearn.ensemble import RandomForestClassifier\n",
    "from sklearn.metrics import accuracy_score, confusion_matrix\n",
    "from sklearn.utils import shuffle\n",
    "\n",
    "os.chdir(r'F:\\\\KARTIK\\\\2021\\\\Freezing of Gait')"
   ]
  },
  {
   "cell_type": "code",
   "execution_count": 20,
   "id": "natural-peeing",
   "metadata": {},
   "outputs": [
    {
     "name": "stdout",
     "output_type": "stream",
     "text": [
      "True\n"
     ]
    }
   ],
   "source": [
    "data_path = os.path.join(os.getcwd(), 'dataset_fog_release', 'dataset', 'FINAL FEATURES', 'final_ftrs_size_1.5.csv')\n",
    "if os.path.exists(data_path):\n",
    "    print(True)"
   ]
  },
  {
   "cell_type": "code",
   "execution_count": 21,
   "id": "southern-breakfast",
   "metadata": {},
   "outputs": [
    {
     "data": {
      "text/html": [
       "<div>\n",
       "<style scoped>\n",
       "    .dataframe tbody tr th:only-of-type {\n",
       "        vertical-align: middle;\n",
       "    }\n",
       "\n",
       "    .dataframe tbody tr th {\n",
       "        vertical-align: top;\n",
       "    }\n",
       "\n",
       "    .dataframe thead th {\n",
       "        text-align: right;\n",
       "    }\n",
       "</style>\n",
       "<table border=\"1\" class=\"dataframe\">\n",
       "  <thead>\n",
       "    <tr style=\"text-align: right;\">\n",
       "      <th></th>\n",
       "      <th>Unnamed: 0</th>\n",
       "      <th>0</th>\n",
       "      <th>Variance_A_F</th>\n",
       "      <th>STD_T_L</th>\n",
       "      <th>FI_A_F</th>\n",
       "      <th>FI_A_V</th>\n",
       "      <th>FI_A_L</th>\n",
       "      <th>EN_A_F</th>\n",
       "      <th>EN_A_V</th>\n",
       "      <th>EN_A_L</th>\n",
       "    </tr>\n",
       "  </thead>\n",
       "  <tbody>\n",
       "    <tr>\n",
       "      <th>0</th>\n",
       "      <td>5827</td>\n",
       "      <td>0</td>\n",
       "      <td>1.291931e+02</td>\n",
       "      <td>10.626735</td>\n",
       "      <td>0.208812</td>\n",
       "      <td>0.197859</td>\n",
       "      <td>0.228380</td>\n",
       "      <td>564225</td>\n",
       "      <td>66177982</td>\n",
       "      <td>2900396</td>\n",
       "    </tr>\n",
       "    <tr>\n",
       "      <th>1</th>\n",
       "      <td>1010</td>\n",
       "      <td>0</td>\n",
       "      <td>1.218303e+06</td>\n",
       "      <td>167.212717</td>\n",
       "      <td>2.211117</td>\n",
       "      <td>0.569717</td>\n",
       "      <td>3.586490</td>\n",
       "      <td>95100630</td>\n",
       "      <td>92777583</td>\n",
       "      <td>35465995</td>\n",
       "    </tr>\n",
       "    <tr>\n",
       "      <th>2</th>\n",
       "      <td>9345</td>\n",
       "      <td>0</td>\n",
       "      <td>7.643404e+04</td>\n",
       "      <td>32.947694</td>\n",
       "      <td>0.977541</td>\n",
       "      <td>0.240672</td>\n",
       "      <td>0.251569</td>\n",
       "      <td>9383529</td>\n",
       "      <td>62431234</td>\n",
       "      <td>7084634</td>\n",
       "    </tr>\n",
       "    <tr>\n",
       "      <th>3</th>\n",
       "      <td>8576</td>\n",
       "      <td>0</td>\n",
       "      <td>2.943862e+05</td>\n",
       "      <td>97.367236</td>\n",
       "      <td>0.570907</td>\n",
       "      <td>0.459756</td>\n",
       "      <td>1.136647</td>\n",
       "      <td>21979375</td>\n",
       "      <td>75595449</td>\n",
       "      <td>2519586</td>\n",
       "    </tr>\n",
       "    <tr>\n",
       "      <th>4</th>\n",
       "      <td>7598</td>\n",
       "      <td>0</td>\n",
       "      <td>1.370491e+05</td>\n",
       "      <td>49.887843</td>\n",
       "      <td>0.594945</td>\n",
       "      <td>0.155911</td>\n",
       "      <td>1.087455</td>\n",
       "      <td>12419721</td>\n",
       "      <td>76300428</td>\n",
       "      <td>5632880</td>\n",
       "    </tr>\n",
       "  </tbody>\n",
       "</table>\n",
       "</div>"
      ],
      "text/plain": [
       "   Unnamed: 0  0  Variance_A_F     STD_T_L    FI_A_F    FI_A_V    FI_A_L  \\\n",
       "0        5827  0  1.291931e+02   10.626735  0.208812  0.197859  0.228380   \n",
       "1        1010  0  1.218303e+06  167.212717  2.211117  0.569717  3.586490   \n",
       "2        9345  0  7.643404e+04   32.947694  0.977541  0.240672  0.251569   \n",
       "3        8576  0  2.943862e+05   97.367236  0.570907  0.459756  1.136647   \n",
       "4        7598  0  1.370491e+05   49.887843  0.594945  0.155911  1.087455   \n",
       "\n",
       "     EN_A_F    EN_A_V    EN_A_L  \n",
       "0    564225  66177982   2900396  \n",
       "1  95100630  92777583  35465995  \n",
       "2   9383529  62431234   7084634  \n",
       "3  21979375  75595449   2519586  \n",
       "4  12419721  76300428   5632880  "
      ]
     },
     "execution_count": 21,
     "metadata": {},
     "output_type": "execute_result"
    }
   ],
   "source": [
    "df = pd.read_csv(data_path)\n",
    "df.head()"
   ]
  },
  {
   "cell_type": "code",
   "execution_count": null,
   "id": "linear-planner",
   "metadata": {},
   "outputs": [],
   "source": []
  },
  {
   "cell_type": "code",
   "execution_count": 22,
   "id": "afraid-barrier",
   "metadata": {},
   "outputs": [],
   "source": [
    "df['Energy_Mean'] = (df['EN_A_F'] + df['EN_A_V'] + df['EN_A_L'])/3\n",
    "df = df.drop(['EN_A_F','EN_A_V','EN_A_L','Unnamed: 0'], axis = 1)"
   ]
  },
  {
   "cell_type": "code",
   "execution_count": 23,
   "id": "arctic-reproduction",
   "metadata": {},
   "outputs": [
    {
     "data": {
      "text/html": [
       "<div>\n",
       "<style scoped>\n",
       "    .dataframe tbody tr th:only-of-type {\n",
       "        vertical-align: middle;\n",
       "    }\n",
       "\n",
       "    .dataframe tbody tr th {\n",
       "        vertical-align: top;\n",
       "    }\n",
       "\n",
       "    .dataframe thead th {\n",
       "        text-align: right;\n",
       "    }\n",
       "</style>\n",
       "<table border=\"1\" class=\"dataframe\">\n",
       "  <thead>\n",
       "    <tr style=\"text-align: right;\">\n",
       "      <th></th>\n",
       "      <th>0</th>\n",
       "      <th>Variance_A_F</th>\n",
       "      <th>STD_T_L</th>\n",
       "      <th>FI_A_F</th>\n",
       "      <th>FI_A_V</th>\n",
       "      <th>FI_A_L</th>\n",
       "      <th>Energy_Mean</th>\n",
       "    </tr>\n",
       "  </thead>\n",
       "  <tbody>\n",
       "    <tr>\n",
       "      <th>0</th>\n",
       "      <td>0</td>\n",
       "      <td>1.291931e+02</td>\n",
       "      <td>10.626735</td>\n",
       "      <td>0.208812</td>\n",
       "      <td>0.197859</td>\n",
       "      <td>0.228380</td>\n",
       "      <td>2.321420e+07</td>\n",
       "    </tr>\n",
       "    <tr>\n",
       "      <th>1</th>\n",
       "      <td>0</td>\n",
       "      <td>1.218303e+06</td>\n",
       "      <td>167.212717</td>\n",
       "      <td>2.211117</td>\n",
       "      <td>0.569717</td>\n",
       "      <td>3.586490</td>\n",
       "      <td>7.444807e+07</td>\n",
       "    </tr>\n",
       "    <tr>\n",
       "      <th>2</th>\n",
       "      <td>0</td>\n",
       "      <td>7.643404e+04</td>\n",
       "      <td>32.947694</td>\n",
       "      <td>0.977541</td>\n",
       "      <td>0.240672</td>\n",
       "      <td>0.251569</td>\n",
       "      <td>2.629980e+07</td>\n",
       "    </tr>\n",
       "    <tr>\n",
       "      <th>3</th>\n",
       "      <td>0</td>\n",
       "      <td>2.943862e+05</td>\n",
       "      <td>97.367236</td>\n",
       "      <td>0.570907</td>\n",
       "      <td>0.459756</td>\n",
       "      <td>1.136647</td>\n",
       "      <td>3.336480e+07</td>\n",
       "    </tr>\n",
       "    <tr>\n",
       "      <th>4</th>\n",
       "      <td>0</td>\n",
       "      <td>1.370491e+05</td>\n",
       "      <td>49.887843</td>\n",
       "      <td>0.594945</td>\n",
       "      <td>0.155911</td>\n",
       "      <td>1.087455</td>\n",
       "      <td>3.145101e+07</td>\n",
       "    </tr>\n",
       "  </tbody>\n",
       "</table>\n",
       "</div>"
      ],
      "text/plain": [
       "   0  Variance_A_F     STD_T_L    FI_A_F    FI_A_V    FI_A_L   Energy_Mean\n",
       "0  0  1.291931e+02   10.626735  0.208812  0.197859  0.228380  2.321420e+07\n",
       "1  0  1.218303e+06  167.212717  2.211117  0.569717  3.586490  7.444807e+07\n",
       "2  0  7.643404e+04   32.947694  0.977541  0.240672  0.251569  2.629980e+07\n",
       "3  0  2.943862e+05   97.367236  0.570907  0.459756  1.136647  3.336480e+07\n",
       "4  0  1.370491e+05   49.887843  0.594945  0.155911  1.087455  3.145101e+07"
      ]
     },
     "execution_count": 23,
     "metadata": {},
     "output_type": "execute_result"
    }
   ],
   "source": [
    "df.head()"
   ]
  },
  {
   "cell_type": "code",
   "execution_count": 34,
   "id": "induced-closure",
   "metadata": {},
   "outputs": [],
   "source": [
    "# Split the data for the classifier\n",
    "y = df['0'].values\n",
    "X = df.iloc[:,1:]\n",
    "X, y = shuffle(X, y, random_state = 2)"
   ]
  },
  {
   "cell_type": "code",
   "execution_count": 36,
   "id": "configured-place",
   "metadata": {},
   "outputs": [],
   "source": [
    "# Initiate the 10 - fold split \n",
    "kf = StratifiedKFold(n_splits = 10, shuffle = True, random_state = 2)"
   ]
  },
  {
   "cell_type": "code",
   "execution_count": 71,
   "id": "bored-broadway",
   "metadata": {},
   "outputs": [],
   "source": [
    "# Initiate a random forest model\n",
    "clf = RandomForestClassifier(\n",
    "    n_estimators=500,\n",
    "    criterion='gini',\n",
    "    max_depth=50,\n",
    "    min_samples_split=5,\n",
    "    min_samples_leaf=15,\n",
    "    max_features='auto',\n",
    "    max_leaf_nodes=None,\n",
    "    min_impurity_split=None,\n",
    "    bootstrap=True,\n",
    "    n_jobs=-1,\n",
    "    random_state=2,\n",
    "    class_weight='balanced'\n",
    ")"
   ]
  },
  {
   "cell_type": "code",
   "execution_count": 98,
   "id": "forbidden-stone",
   "metadata": {},
   "outputs": [
    {
     "name": "stdout",
     "output_type": "stream",
     "text": [
      "Fold:0, Train set: 3851, Test set:428\n",
      "Fold:1, Train set: 3851, Test set:428\n",
      "Fold:2, Train set: 3851, Test set:428\n",
      "Fold:3, Train set: 3851, Test set:428\n",
      "Fold:4, Train set: 3851, Test set:428\n",
      "Fold:5, Train set: 3851, Test set:428\n",
      "Fold:6, Train set: 3851, Test set:428\n",
      "Fold:7, Train set: 3851, Test set:428\n",
      "Fold:8, Train set: 3851, Test set:428\n",
      "Fold:9, Train set: 3852, Test set:427\n"
     ]
    }
   ],
   "source": [
    "# split()  method generate indices to split data into training and test set.\n",
    "for (train_index, test_index), i in zip(kf.split(X, y), range(10)):\n",
    "    print(f'Fold:{i}, Train set: {len(train_index)}, Test set:{len(test_index)}')\n"
   ]
  },
  {
   "cell_type": "code",
   "execution_count": 100,
   "id": "reflected-administration",
   "metadata": {},
   "outputs": [
    {
     "name": "stdout",
     "output_type": "stream",
     "text": [
      "Scores for each fold are: [0.68224299 0.70794393 0.73831776 0.71495327 0.70327103 0.71728972\n",
      " 0.70093458 0.71495327 0.70794393 0.72131148]\n",
      "Average score: 0.71\n"
     ]
    }
   ],
   "source": [
    "score = cross_val_score(clf, X, y, cv= kf, scoring=\"accuracy\")\n",
    "print(f'Scores for each fold are: {score}')\n",
    "print(f'Average score: {\"{:.2f}\".format(score.mean())}')"
   ]
  },
  {
   "cell_type": "code",
   "execution_count": 107,
   "id": "entitled-adobe",
   "metadata": {},
   "outputs": [],
   "source": [
    "X_train, X_test, y_train, y_test = train_test_split(X, y, random_state = 2, stratify = y)"
   ]
  },
  {
   "cell_type": "code",
   "execution_count": 108,
   "id": "invalid-celebrity",
   "metadata": {},
   "outputs": [
    {
     "data": {
      "text/plain": [
       "0.7252336448598131"
      ]
     },
     "execution_count": 108,
     "metadata": {},
     "output_type": "execute_result"
    }
   ],
   "source": [
    "m = clf.fit(X_train, y_train)\n",
    "y_pred = m.predict(X_test)\n",
    "accuracy_score(y_test, y_pred)"
   ]
  },
  {
   "cell_type": "code",
   "execution_count": 109,
   "id": "juvenile-operation",
   "metadata": {},
   "outputs": [
    {
     "name": "stdout",
     "output_type": "stream",
     "text": [
      "[[445 134  28]\n",
      " [ 47 324  33]\n",
      " [  7  45   7]]\n"
     ]
    }
   ],
   "source": [
    "cnf = confusion_matrix(y_test, y_pred)\n",
    "print(cnf)"
   ]
  },
  {
   "cell_type": "code",
   "execution_count": 110,
   "id": "surgical-crash",
   "metadata": {},
   "outputs": [],
   "source": [
    "# For class pre-FoG\n",
    "tp = cnf[1][1]\n",
    "tn = cnf[0][0] + cnf[0][2] + cnf[2][0] + cnf[2][2]\n",
    "fp = cnf[1][0] + cnf[1][2]\n",
    "fn = cnf[0][1] + cnf[2][1]"
   ]
  },
  {
   "cell_type": "code",
   "execution_count": 111,
   "id": "acting-seating",
   "metadata": {},
   "outputs": [],
   "source": [
    "precision = tp/(tp + fp)\n",
    "recall =  tp / (tp + fn)    #sensitivity\n",
    "F1_score = (2*tp) / (2*tp + fp + fn)"
   ]
  },
  {
   "cell_type": "code",
   "execution_count": 112,
   "id": "following-wrong",
   "metadata": {},
   "outputs": [
    {
     "name": "stdout",
     "output_type": "stream",
     "text": [
      "The evaluation metrics are:\n",
      "precision = 0.801980198019802,\n",
      "recall = 0.6441351888667992, \n",
      "F1-score = 0.7144432194046306\n"
     ]
    }
   ],
   "source": [
    "print(\"The evaluation metrics are:\\nprecision = {},\\nrecall = {}, \\nF1-score = {}\".format(precision, recall, F1_score) )"
   ]
  },
  {
   "cell_type": "code",
   "execution_count": null,
   "id": "federal-religious",
   "metadata": {},
   "outputs": [],
   "source": []
  }
 ],
 "metadata": {
  "kernelspec": {
   "display_name": "Python 3",
   "language": "python",
   "name": "python3"
  },
  "language_info": {
   "codemirror_mode": {
    "name": "ipython",
    "version": 3
   },
   "file_extension": ".py",
   "mimetype": "text/x-python",
   "name": "python",
   "nbconvert_exporter": "python",
   "pygments_lexer": "ipython3",
   "version": "3.7.0"
  }
 },
 "nbformat": 4,
 "nbformat_minor": 5
}
