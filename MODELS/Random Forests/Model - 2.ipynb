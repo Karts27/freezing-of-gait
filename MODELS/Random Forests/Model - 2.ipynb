{
 "cells": [
  {
   "cell_type": "code",
   "execution_count": 1,
   "id": "level-death",
   "metadata": {},
   "outputs": [],
   "source": [
    "import pandas as pd\n",
    "import numpy as np\n",
    "import os\n",
    "import tensorflow as tf\n",
    "from sklearn.model_selection import train_test_split, cross_val_score, StratifiedKFold\n",
    "from sklearn.preprocessing import normalize\n",
    "from sklearn.ensemble import RandomForestClassifier\n",
    "from sklearn.metrics import accuracy_score, confusion_matrix\n",
    "from sklearn.preprocessing import normalize\n",
    "from sklearn.utils import shuffle\n",
    "from sklearn.metrics import roc_curve\n",
    "\n",
    "os.chdir(r'F:\\\\KARTIK\\\\2021\\\\Freezing of Gait')"
   ]
  },
  {
   "cell_type": "code",
   "execution_count": 3,
   "id": "committed-training",
   "metadata": {},
   "outputs": [
    {
     "name": "stdout",
     "output_type": "stream",
     "text": [
      "True\n"
     ]
    }
   ],
   "source": [
    "data_path = os.path.join(os.getcwd(), 'dataset_fog_release', 'dataset', 'FINAL FEATURES', 'final_ftrs_size_1.5_2.csv')\n",
    "if os.path.exists(data_path):\n",
    "    print(True)"
   ]
  },
  {
   "cell_type": "code",
   "execution_count": 4,
   "id": "stock-parks",
   "metadata": {},
   "outputs": [
    {
     "data": {
      "text/html": [
       "<div>\n",
       "<style scoped>\n",
       "    .dataframe tbody tr th:only-of-type {\n",
       "        vertical-align: middle;\n",
       "    }\n",
       "\n",
       "    .dataframe tbody tr th {\n",
       "        vertical-align: top;\n",
       "    }\n",
       "\n",
       "    .dataframe thead th {\n",
       "        text-align: right;\n",
       "    }\n",
       "</style>\n",
       "<table border=\"1\" class=\"dataframe\">\n",
       "  <thead>\n",
       "    <tr style=\"text-align: right;\">\n",
       "      <th></th>\n",
       "      <th>Unnamed: 0</th>\n",
       "      <th>0</th>\n",
       "      <th>Minimum_A_F</th>\n",
       "      <th>RMS_A_F</th>\n",
       "      <th>Variance_A_F</th>\n",
       "      <th>STD_A_F</th>\n",
       "      <th>RangeA_F</th>\n",
       "      <th>RMS_A_V</th>\n",
       "      <th>Variance_A_V</th>\n",
       "      <th>RangeA_V</th>\n",
       "      <th>Variance_A_L</th>\n",
       "      <th>EN_A_F</th>\n",
       "      <th>EN_A_V</th>\n",
       "      <th>EN_A_L</th>\n",
       "    </tr>\n",
       "  </thead>\n",
       "  <tbody>\n",
       "    <tr>\n",
       "      <th>0</th>\n",
       "      <td>7052</td>\n",
       "      <td>0</td>\n",
       "      <td>202</td>\n",
       "      <td>229.549695</td>\n",
       "      <td>94.506836</td>\n",
       "      <td>9.721463</td>\n",
       "      <td>50</td>\n",
       "      <td>989.988044</td>\n",
       "      <td>131.009522</td>\n",
       "      <td>59</td>\n",
       "      <td>141.827148</td>\n",
       "      <td>3372356</td>\n",
       "      <td>62724885</td>\n",
       "      <td>3298766</td>\n",
       "    </tr>\n",
       "    <tr>\n",
       "      <th>1</th>\n",
       "      <td>8900</td>\n",
       "      <td>0</td>\n",
       "      <td>-282</td>\n",
       "      <td>347.856719</td>\n",
       "      <td>70597.031010</td>\n",
       "      <td>265.701018</td>\n",
       "      <td>1433</td>\n",
       "      <td>1012.344224</td>\n",
       "      <td>17420.864990</td>\n",
       "      <td>745</td>\n",
       "      <td>3911.380615</td>\n",
       "      <td>7744275</td>\n",
       "      <td>65589813</td>\n",
       "      <td>5926039</td>\n",
       "    </tr>\n",
       "    <tr>\n",
       "      <th>2</th>\n",
       "      <td>7814</td>\n",
       "      <td>0</td>\n",
       "      <td>-303</td>\n",
       "      <td>92.452184</td>\n",
       "      <td>6411.233398</td>\n",
       "      <td>80.070178</td>\n",
       "      <td>353</td>\n",
       "      <td>1023.486520</td>\n",
       "      <td>292.225586</td>\n",
       "      <td>88</td>\n",
       "      <td>807.717773</td>\n",
       "      <td>547034</td>\n",
       "      <td>67041578</td>\n",
       "      <td>1805332</td>\n",
       "    </tr>\n",
       "    <tr>\n",
       "      <th>3</th>\n",
       "      <td>3105</td>\n",
       "      <td>0</td>\n",
       "      <td>-242</td>\n",
       "      <td>145.406703</td>\n",
       "      <td>2318.411865</td>\n",
       "      <td>48.149890</td>\n",
       "      <td>222</td>\n",
       "      <td>1010.552201</td>\n",
       "      <td>1241.996094</td>\n",
       "      <td>235</td>\n",
       "      <td>956.937500</td>\n",
       "      <td>1353159</td>\n",
       "      <td>65357808</td>\n",
       "      <td>3879360</td>\n",
       "    </tr>\n",
       "    <tr>\n",
       "      <th>4</th>\n",
       "      <td>7911</td>\n",
       "      <td>0</td>\n",
       "      <td>111</td>\n",
       "      <td>134.887916</td>\n",
       "      <td>79.272461</td>\n",
       "      <td>8.903508</td>\n",
       "      <td>40</td>\n",
       "      <td>1025.328476</td>\n",
       "      <td>128.882568</td>\n",
       "      <td>49</td>\n",
       "      <td>151.803711</td>\n",
       "      <td>1164464</td>\n",
       "      <td>67283103</td>\n",
       "      <td>914592</td>\n",
       "    </tr>\n",
       "  </tbody>\n",
       "</table>\n",
       "</div>"
      ],
      "text/plain": [
       "   Unnamed: 0  0  Minimum_A_F     RMS_A_F  Variance_A_F     STD_A_F  RangeA_F  \\\n",
       "0        7052  0          202  229.549695     94.506836    9.721463        50   \n",
       "1        8900  0         -282  347.856719  70597.031010  265.701018      1433   \n",
       "2        7814  0         -303   92.452184   6411.233398   80.070178       353   \n",
       "3        3105  0         -242  145.406703   2318.411865   48.149890       222   \n",
       "4        7911  0          111  134.887916     79.272461    8.903508        40   \n",
       "\n",
       "       RMS_A_V  Variance_A_V  RangeA_V  Variance_A_L   EN_A_F    EN_A_V  \\\n",
       "0   989.988044    131.009522        59    141.827148  3372356  62724885   \n",
       "1  1012.344224  17420.864990       745   3911.380615  7744275  65589813   \n",
       "2  1023.486520    292.225586        88    807.717773   547034  67041578   \n",
       "3  1010.552201   1241.996094       235    956.937500  1353159  65357808   \n",
       "4  1025.328476    128.882568        49    151.803711  1164464  67283103   \n",
       "\n",
       "    EN_A_L  \n",
       "0  3298766  \n",
       "1  5926039  \n",
       "2  1805332  \n",
       "3  3879360  \n",
       "4   914592  "
      ]
     },
     "execution_count": 4,
     "metadata": {},
     "output_type": "execute_result"
    }
   ],
   "source": [
    "df = pd.read_csv(data_path)\n",
    "df.head()"
   ]
  },
  {
   "cell_type": "code",
   "execution_count": 5,
   "id": "continental-auckland",
   "metadata": {},
   "outputs": [],
   "source": [
    "df['Energy_Mean'] = (df['EN_A_F'] + df['EN_A_V'] + df['EN_A_L'])/3\n",
    "df = df.drop(['EN_A_F','EN_A_V','EN_A_L','Unnamed: 0'], axis = 1)"
   ]
  },
  {
   "cell_type": "code",
   "execution_count": 6,
   "id": "small-character",
   "metadata": {},
   "outputs": [
    {
     "data": {
      "text/html": [
       "<div>\n",
       "<style scoped>\n",
       "    .dataframe tbody tr th:only-of-type {\n",
       "        vertical-align: middle;\n",
       "    }\n",
       "\n",
       "    .dataframe tbody tr th {\n",
       "        vertical-align: top;\n",
       "    }\n",
       "\n",
       "    .dataframe thead th {\n",
       "        text-align: right;\n",
       "    }\n",
       "</style>\n",
       "<table border=\"1\" class=\"dataframe\">\n",
       "  <thead>\n",
       "    <tr style=\"text-align: right;\">\n",
       "      <th></th>\n",
       "      <th>0</th>\n",
       "      <th>Minimum_A_F</th>\n",
       "      <th>RMS_A_F</th>\n",
       "      <th>Variance_A_F</th>\n",
       "      <th>STD_A_F</th>\n",
       "      <th>RangeA_F</th>\n",
       "      <th>RMS_A_V</th>\n",
       "      <th>Variance_A_V</th>\n",
       "      <th>RangeA_V</th>\n",
       "      <th>Variance_A_L</th>\n",
       "      <th>Energy_Mean</th>\n",
       "    </tr>\n",
       "  </thead>\n",
       "  <tbody>\n",
       "    <tr>\n",
       "      <th>0</th>\n",
       "      <td>0</td>\n",
       "      <td>202</td>\n",
       "      <td>229.549695</td>\n",
       "      <td>94.506836</td>\n",
       "      <td>9.721463</td>\n",
       "      <td>50</td>\n",
       "      <td>989.988044</td>\n",
       "      <td>131.009522</td>\n",
       "      <td>59</td>\n",
       "      <td>141.827148</td>\n",
       "      <td>2.313200e+07</td>\n",
       "    </tr>\n",
       "    <tr>\n",
       "      <th>1</th>\n",
       "      <td>0</td>\n",
       "      <td>-282</td>\n",
       "      <td>347.856719</td>\n",
       "      <td>70597.031010</td>\n",
       "      <td>265.701018</td>\n",
       "      <td>1433</td>\n",
       "      <td>1012.344224</td>\n",
       "      <td>17420.864990</td>\n",
       "      <td>745</td>\n",
       "      <td>3911.380615</td>\n",
       "      <td>2.642004e+07</td>\n",
       "    </tr>\n",
       "    <tr>\n",
       "      <th>2</th>\n",
       "      <td>0</td>\n",
       "      <td>-303</td>\n",
       "      <td>92.452184</td>\n",
       "      <td>6411.233398</td>\n",
       "      <td>80.070178</td>\n",
       "      <td>353</td>\n",
       "      <td>1023.486520</td>\n",
       "      <td>292.225586</td>\n",
       "      <td>88</td>\n",
       "      <td>807.717773</td>\n",
       "      <td>2.313131e+07</td>\n",
       "    </tr>\n",
       "    <tr>\n",
       "      <th>3</th>\n",
       "      <td>0</td>\n",
       "      <td>-242</td>\n",
       "      <td>145.406703</td>\n",
       "      <td>2318.411865</td>\n",
       "      <td>48.149890</td>\n",
       "      <td>222</td>\n",
       "      <td>1010.552201</td>\n",
       "      <td>1241.996094</td>\n",
       "      <td>235</td>\n",
       "      <td>956.937500</td>\n",
       "      <td>2.353011e+07</td>\n",
       "    </tr>\n",
       "    <tr>\n",
       "      <th>4</th>\n",
       "      <td>0</td>\n",
       "      <td>111</td>\n",
       "      <td>134.887916</td>\n",
       "      <td>79.272461</td>\n",
       "      <td>8.903508</td>\n",
       "      <td>40</td>\n",
       "      <td>1025.328476</td>\n",
       "      <td>128.882568</td>\n",
       "      <td>49</td>\n",
       "      <td>151.803711</td>\n",
       "      <td>2.312072e+07</td>\n",
       "    </tr>\n",
       "  </tbody>\n",
       "</table>\n",
       "</div>"
      ],
      "text/plain": [
       "   0  Minimum_A_F     RMS_A_F  Variance_A_F     STD_A_F  RangeA_F  \\\n",
       "0  0          202  229.549695     94.506836    9.721463        50   \n",
       "1  0         -282  347.856719  70597.031010  265.701018      1433   \n",
       "2  0         -303   92.452184   6411.233398   80.070178       353   \n",
       "3  0         -242  145.406703   2318.411865   48.149890       222   \n",
       "4  0          111  134.887916     79.272461    8.903508        40   \n",
       "\n",
       "       RMS_A_V  Variance_A_V  RangeA_V  Variance_A_L   Energy_Mean  \n",
       "0   989.988044    131.009522        59    141.827148  2.313200e+07  \n",
       "1  1012.344224  17420.864990       745   3911.380615  2.642004e+07  \n",
       "2  1023.486520    292.225586        88    807.717773  2.313131e+07  \n",
       "3  1010.552201   1241.996094       235    956.937500  2.353011e+07  \n",
       "4  1025.328476    128.882568        49    151.803711  2.312072e+07  "
      ]
     },
     "execution_count": 6,
     "metadata": {},
     "output_type": "execute_result"
    }
   ],
   "source": [
    "df.head()"
   ]
  },
  {
   "cell_type": "code",
   "execution_count": 71,
   "id": "sapphire-stevens",
   "metadata": {},
   "outputs": [],
   "source": [
    "# Split the data for the classifier\n",
    "y = df['0'].values\n",
    "X = df.iloc[:,1:]\n",
    "#X = normalize(X)\n",
    "X, y = shuffle(X, y, random_state = 2)"
   ]
  },
  {
   "cell_type": "code",
   "execution_count": 72,
   "id": "harmful-vietnam",
   "metadata": {},
   "outputs": [
    {
     "name": "stdout",
     "output_type": "stream",
     "text": [
      "Fold:0, Train set: 1988, Test set:221\n",
      "Fold:1, Train set: 1988, Test set:221\n",
      "Fold:2, Train set: 1988, Test set:221\n",
      "Fold:3, Train set: 1988, Test set:221\n",
      "Fold:4, Train set: 1988, Test set:221\n",
      "Fold:5, Train set: 1988, Test set:221\n",
      "Fold:6, Train set: 1988, Test set:221\n",
      "Fold:7, Train set: 1988, Test set:221\n",
      "Fold:8, Train set: 1988, Test set:221\n",
      "Fold:9, Train set: 1989, Test set:220\n"
     ]
    }
   ],
   "source": [
    "# Initiate the 10 - fold split \n",
    "kf = StratifiedKFold(n_splits = 10, shuffle = True, random_state = 2)\n",
    "\n",
    "# Initiate a random forest model\n",
    "clf = RandomForestClassifier(\n",
    "    n_estimators=500,\n",
    "    criterion='gini',\n",
    "    max_depth=50,\n",
    "    min_samples_split=5,\n",
    "    min_samples_leaf=15,\n",
    "    max_features='auto',\n",
    "    max_leaf_nodes=None,\n",
    "    min_impurity_split=None,\n",
    "    bootstrap=True,\n",
    "    n_jobs=-1,\n",
    "    random_state=2,\n",
    "    class_weight='balanced'\n",
    ")\n",
    "\n",
    "# split()  method generate indices to split data into training and test set.\n",
    "for (train_index, test_index), i in zip(kf.split(X, y), range(10)):\n",
    "    print(f'Fold:{i}, Train set: {len(train_index)}, Test set:{len(test_index)}')"
   ]
  },
  {
   "cell_type": "code",
   "execution_count": 73,
   "id": "respective-stand",
   "metadata": {},
   "outputs": [
    {
     "name": "stdout",
     "output_type": "stream",
     "text": [
      "Scores for each fold are: [0.73755656 0.67420814 0.7239819  0.67873303 0.70135747 0.65158371\n",
      " 0.63800905 0.67873303 0.71945701 0.76363636]\n",
      "Average score: 0.70\n"
     ]
    }
   ],
   "source": [
    "score = cross_val_score(clf, X, y, cv= kf, scoring=\"accuracy\")\n",
    "print(f'Scores for each fold are: {score}')\n",
    "print(f'Average score: {\"{:.2f}\".format(score.mean())}')"
   ]
  },
  {
   "cell_type": "code",
   "execution_count": 74,
   "id": "tired-exploration",
   "metadata": {},
   "outputs": [],
   "source": [
    "X_train, X_test, y_train, y_test = train_test_split(X, y, random_state = 2, stratify = y, test_size = 0.40)"
   ]
  },
  {
   "cell_type": "code",
   "execution_count": 75,
   "id": "motivated-block",
   "metadata": {},
   "outputs": [
    {
     "data": {
      "text/plain": [
       "0.6911764705882353"
      ]
     },
     "execution_count": 75,
     "metadata": {},
     "output_type": "execute_result"
    }
   ],
   "source": [
    "m = clf.fit(X_train, y_train)\n",
    "y_pred = m.predict(X_test)\n",
    "accuracy_score(y_test, y_pred)"
   ]
  },
  {
   "cell_type": "code",
   "execution_count": 76,
   "id": "prerequisite-ceiling",
   "metadata": {},
   "outputs": [
    {
     "name": "stdout",
     "output_type": "stream",
     "text": [
      "[[ 94  35  13]\n",
      " [ 60 486 101]\n",
      " [  6  58  31]]\n"
     ]
    }
   ],
   "source": [
    "cnf = confusion_matrix(y_test, y_pred)\n",
    "print(cnf)"
   ]
  },
  {
   "cell_type": "code",
   "execution_count": 77,
   "id": "international-sleeve",
   "metadata": {},
   "outputs": [],
   "source": [
    "# For class pre-FoG\n",
    "tp = cnf[1][1]\n",
    "tn = cnf[0][0] + cnf[0][2] + cnf[2][0] + cnf[2][2]\n",
    "fp = cnf[1][0] + cnf[1][2]\n",
    "fn = cnf[0][1] + cnf[2][1]"
   ]
  },
  {
   "cell_type": "code",
   "execution_count": 78,
   "id": "partial-mercy",
   "metadata": {},
   "outputs": [],
   "source": [
    "precision = tp/(tp + fp)\n",
    "recall =  tp / (tp + fn)    #sensitivity\n",
    "F1_score = (2*tp) / (2*tp + fp + fn)"
   ]
  },
  {
   "cell_type": "code",
   "execution_count": 79,
   "id": "ranging-ethics",
   "metadata": {},
   "outputs": [
    {
     "name": "stdout",
     "output_type": "stream",
     "text": [
      "The evaluation metrics are:\n",
      "precision = 0.7511591962905718,\n",
      "recall = 0.8393782383419689, \n",
      "F1-score = 0.7928221859706363\n"
     ]
    }
   ],
   "source": [
    "print(\"The evaluation metrics are:\\nprecision = {},\\nrecall = {}, \\nF1-score = {}\".format(precision, recall, F1_score) )"
   ]
  },
  {
   "cell_type": "code",
   "execution_count": null,
   "id": "opposed-basket",
   "metadata": {},
   "outputs": [],
   "source": []
  }
 ],
 "metadata": {
  "kernelspec": {
   "display_name": "Python 3",
   "language": "python",
   "name": "python3"
  },
  "language_info": {
   "codemirror_mode": {
    "name": "ipython",
    "version": 3
   },
   "file_extension": ".py",
   "mimetype": "text/x-python",
   "name": "python",
   "nbconvert_exporter": "python",
   "pygments_lexer": "ipython3",
   "version": "3.7.0"
  }
 },
 "nbformat": 4,
 "nbformat_minor": 5
}
