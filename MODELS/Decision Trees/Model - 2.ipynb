{
 "cells": [
  {
   "cell_type": "code",
   "execution_count": 1,
   "id": "level-death",
   "metadata": {},
   "outputs": [],
   "source": [
    "import pandas as pd\n",
    "import numpy as np\n",
    "import os\n",
    "import tensorflow as tf\n",
    "from sklearn.model_selection import train_test_split, cross_val_score, StratifiedKFold\n",
    "from sklearn.preprocessing import normalize\n",
    "from sklearn.tree import DecisionTreeClassifier\n",
    "from sklearn.metrics import accuracy_score, confusion_matrix\n",
    "from sklearn.utils import shuffle\n",
    "\n",
    "os.chdir(r\"F:\\\\KARTIK\\\\2021\\\\Freezing of Gait\")"
   ]
  },
  {
   "cell_type": "code",
   "execution_count": 2,
   "id": "committed-training",
   "metadata": {},
   "outputs": [
    {
     "name": "stdout",
     "output_type": "stream",
     "text": [
      "True\n"
     ]
    }
   ],
   "source": [
    "data_path = os.path.join(os.getcwd(), 'dataset_fog_release', 'dataset', 'FINAL FEATURES', 'final_ftrs_size_1.5_2.csv')\n",
    "if os.path.exists(data_path):\n",
    "    print(True)"
   ]
  },
  {
   "cell_type": "code",
   "execution_count": 3,
   "id": "stock-parks",
   "metadata": {},
   "outputs": [
    {
     "data": {
      "text/html": [
       "<div>\n",
       "<style scoped>\n",
       "    .dataframe tbody tr th:only-of-type {\n",
       "        vertical-align: middle;\n",
       "    }\n",
       "\n",
       "    .dataframe tbody tr th {\n",
       "        vertical-align: top;\n",
       "    }\n",
       "\n",
       "    .dataframe thead th {\n",
       "        text-align: right;\n",
       "    }\n",
       "</style>\n",
       "<table border=\"1\" class=\"dataframe\">\n",
       "  <thead>\n",
       "    <tr style=\"text-align: right;\">\n",
       "      <th></th>\n",
       "      <th>Unnamed: 0</th>\n",
       "      <th>0</th>\n",
       "      <th>RMS_A_F</th>\n",
       "      <th>Variance_A_F</th>\n",
       "      <th>RangeA_F</th>\n",
       "      <th>Minimum_A_F</th>\n",
       "      <th>STD_A_F</th>\n",
       "      <th>RMS_A_V</th>\n",
       "      <th>Variance_A_V</th>\n",
       "      <th>RangeA_V</th>\n",
       "      <th>EN_A_F</th>\n",
       "      <th>EN_A_V</th>\n",
       "      <th>EN_A_L</th>\n",
       "    </tr>\n",
       "  </thead>\n",
       "  <tbody>\n",
       "    <tr>\n",
       "      <th>0</th>\n",
       "      <td>7413</td>\n",
       "      <td>0</td>\n",
       "      <td>455.891246</td>\n",
       "      <td>144639.581800</td>\n",
       "      <td>2302</td>\n",
       "      <td>-848</td>\n",
       "      <td>380.315109</td>\n",
       "      <td>1251.760454</td>\n",
       "      <td>92842.659910</td>\n",
       "      <td>1187</td>\n",
       "      <td>13301557</td>\n",
       "      <td>100281871</td>\n",
       "      <td>7930989</td>\n",
       "    </tr>\n",
       "    <tr>\n",
       "      <th>1</th>\n",
       "      <td>7086</td>\n",
       "      <td>0</td>\n",
       "      <td>231.283646</td>\n",
       "      <td>102.246094</td>\n",
       "      <td>40</td>\n",
       "      <td>212</td>\n",
       "      <td>10.111681</td>\n",
       "      <td>988.759972</td>\n",
       "      <td>81.514648</td>\n",
       "      <td>39</td>\n",
       "      <td>3423496</td>\n",
       "      <td>62569362</td>\n",
       "      <td>3413816</td>\n",
       "    </tr>\n",
       "    <tr>\n",
       "      <th>2</th>\n",
       "      <td>9439</td>\n",
       "      <td>0</td>\n",
       "      <td>540.666631</td>\n",
       "      <td>240819.777300</td>\n",
       "      <td>2786</td>\n",
       "      <td>-1090</td>\n",
       "      <td>490.733917</td>\n",
       "      <td>1231.822462</td>\n",
       "      <td>114531.400100</td>\n",
       "      <td>1510</td>\n",
       "      <td>18708506</td>\n",
       "      <td>97112741</td>\n",
       "      <td>6079041</td>\n",
       "    </tr>\n",
       "    <tr>\n",
       "      <th>3</th>\n",
       "      <td>2852</td>\n",
       "      <td>0</td>\n",
       "      <td>511.452130</td>\n",
       "      <td>209428.140600</td>\n",
       "      <td>2888</td>\n",
       "      <td>-2171</td>\n",
       "      <td>457.633194</td>\n",
       "      <td>1018.502270</td>\n",
       "      <td>48689.527340</td>\n",
       "      <td>1010</td>\n",
       "      <td>16741330</td>\n",
       "      <td>66390200</td>\n",
       "      <td>7123326</td>\n",
       "    </tr>\n",
       "    <tr>\n",
       "      <th>4</th>\n",
       "      <td>10419</td>\n",
       "      <td>0</td>\n",
       "      <td>327.939019</td>\n",
       "      <td>62.475586</td>\n",
       "      <td>30</td>\n",
       "      <td>313</td>\n",
       "      <td>7.904150</td>\n",
       "      <td>950.647140</td>\n",
       "      <td>71.800537</td>\n",
       "      <td>39</td>\n",
       "      <td>6882816</td>\n",
       "      <td>57838719</td>\n",
       "      <td>4991550</td>\n",
       "    </tr>\n",
       "  </tbody>\n",
       "</table>\n",
       "</div>"
      ],
      "text/plain": [
       "   Unnamed: 0  0     RMS_A_F   Variance_A_F  RangeA_F  Minimum_A_F  \\\n",
       "0        7413  0  455.891246  144639.581800      2302         -848   \n",
       "1        7086  0  231.283646     102.246094        40          212   \n",
       "2        9439  0  540.666631  240819.777300      2786        -1090   \n",
       "3        2852  0  511.452130  209428.140600      2888        -2171   \n",
       "4       10419  0  327.939019      62.475586        30          313   \n",
       "\n",
       "      STD_A_F      RMS_A_V   Variance_A_V  RangeA_V    EN_A_F     EN_A_V  \\\n",
       "0  380.315109  1251.760454   92842.659910      1187  13301557  100281871   \n",
       "1   10.111681   988.759972      81.514648        39   3423496   62569362   \n",
       "2  490.733917  1231.822462  114531.400100      1510  18708506   97112741   \n",
       "3  457.633194  1018.502270   48689.527340      1010  16741330   66390200   \n",
       "4    7.904150   950.647140      71.800537        39   6882816   57838719   \n",
       "\n",
       "    EN_A_L  \n",
       "0  7930989  \n",
       "1  3413816  \n",
       "2  6079041  \n",
       "3  7123326  \n",
       "4  4991550  "
      ]
     },
     "execution_count": 3,
     "metadata": {},
     "output_type": "execute_result"
    }
   ],
   "source": [
    "df = pd.read_csv(data_path)\n",
    "df.head()"
   ]
  },
  {
   "cell_type": "code",
   "execution_count": 4,
   "id": "continental-auckland",
   "metadata": {},
   "outputs": [],
   "source": [
    "df['Energy_Mean'] = (df['EN_A_F'] + df['EN_A_V'] + df['EN_A_L'])/3\n",
    "df = df.drop(['EN_A_F','EN_A_V','EN_A_L','Unnamed: 0'], axis = 1)"
   ]
  },
  {
   "cell_type": "code",
   "execution_count": 5,
   "id": "small-character",
   "metadata": {},
   "outputs": [
    {
     "data": {
      "text/html": [
       "<div>\n",
       "<style scoped>\n",
       "    .dataframe tbody tr th:only-of-type {\n",
       "        vertical-align: middle;\n",
       "    }\n",
       "\n",
       "    .dataframe tbody tr th {\n",
       "        vertical-align: top;\n",
       "    }\n",
       "\n",
       "    .dataframe thead th {\n",
       "        text-align: right;\n",
       "    }\n",
       "</style>\n",
       "<table border=\"1\" class=\"dataframe\">\n",
       "  <thead>\n",
       "    <tr style=\"text-align: right;\">\n",
       "      <th></th>\n",
       "      <th>0</th>\n",
       "      <th>RMS_A_F</th>\n",
       "      <th>Variance_A_F</th>\n",
       "      <th>RangeA_F</th>\n",
       "      <th>Minimum_A_F</th>\n",
       "      <th>STD_A_F</th>\n",
       "      <th>RMS_A_V</th>\n",
       "      <th>Variance_A_V</th>\n",
       "      <th>RangeA_V</th>\n",
       "      <th>Energy_Mean</th>\n",
       "    </tr>\n",
       "  </thead>\n",
       "  <tbody>\n",
       "    <tr>\n",
       "      <th>0</th>\n",
       "      <td>0</td>\n",
       "      <td>455.891246</td>\n",
       "      <td>144639.581800</td>\n",
       "      <td>2302</td>\n",
       "      <td>-848</td>\n",
       "      <td>380.315109</td>\n",
       "      <td>1251.760454</td>\n",
       "      <td>92842.659910</td>\n",
       "      <td>1187</td>\n",
       "      <td>4.050481e+07</td>\n",
       "    </tr>\n",
       "    <tr>\n",
       "      <th>1</th>\n",
       "      <td>0</td>\n",
       "      <td>231.283646</td>\n",
       "      <td>102.246094</td>\n",
       "      <td>40</td>\n",
       "      <td>212</td>\n",
       "      <td>10.111681</td>\n",
       "      <td>988.759972</td>\n",
       "      <td>81.514648</td>\n",
       "      <td>39</td>\n",
       "      <td>2.313556e+07</td>\n",
       "    </tr>\n",
       "    <tr>\n",
       "      <th>2</th>\n",
       "      <td>0</td>\n",
       "      <td>540.666631</td>\n",
       "      <td>240819.777300</td>\n",
       "      <td>2786</td>\n",
       "      <td>-1090</td>\n",
       "      <td>490.733917</td>\n",
       "      <td>1231.822462</td>\n",
       "      <td>114531.400100</td>\n",
       "      <td>1510</td>\n",
       "      <td>4.063343e+07</td>\n",
       "    </tr>\n",
       "    <tr>\n",
       "      <th>3</th>\n",
       "      <td>0</td>\n",
       "      <td>511.452130</td>\n",
       "      <td>209428.140600</td>\n",
       "      <td>2888</td>\n",
       "      <td>-2171</td>\n",
       "      <td>457.633194</td>\n",
       "      <td>1018.502270</td>\n",
       "      <td>48689.527340</td>\n",
       "      <td>1010</td>\n",
       "      <td>3.008495e+07</td>\n",
       "    </tr>\n",
       "    <tr>\n",
       "      <th>4</th>\n",
       "      <td>0</td>\n",
       "      <td>327.939019</td>\n",
       "      <td>62.475586</td>\n",
       "      <td>30</td>\n",
       "      <td>313</td>\n",
       "      <td>7.904150</td>\n",
       "      <td>950.647140</td>\n",
       "      <td>71.800537</td>\n",
       "      <td>39</td>\n",
       "      <td>2.323770e+07</td>\n",
       "    </tr>\n",
       "  </tbody>\n",
       "</table>\n",
       "</div>"
      ],
      "text/plain": [
       "   0     RMS_A_F   Variance_A_F  RangeA_F  Minimum_A_F     STD_A_F  \\\n",
       "0  0  455.891246  144639.581800      2302         -848  380.315109   \n",
       "1  0  231.283646     102.246094        40          212   10.111681   \n",
       "2  0  540.666631  240819.777300      2786        -1090  490.733917   \n",
       "3  0  511.452130  209428.140600      2888        -2171  457.633194   \n",
       "4  0  327.939019      62.475586        30          313    7.904150   \n",
       "\n",
       "       RMS_A_V   Variance_A_V  RangeA_V   Energy_Mean  \n",
       "0  1251.760454   92842.659910      1187  4.050481e+07  \n",
       "1   988.759972      81.514648        39  2.313556e+07  \n",
       "2  1231.822462  114531.400100      1510  4.063343e+07  \n",
       "3  1018.502270   48689.527340      1010  3.008495e+07  \n",
       "4   950.647140      71.800537        39  2.323770e+07  "
      ]
     },
     "execution_count": 5,
     "metadata": {},
     "output_type": "execute_result"
    }
   ],
   "source": [
    "df.head()"
   ]
  },
  {
   "cell_type": "code",
   "execution_count": 15,
   "id": "sapphire-stevens",
   "metadata": {},
   "outputs": [],
   "source": [
    "# Split the data for the classifier\n",
    "y = df['0'].values\n",
    "X = df.iloc[:,1:]\n",
    "X = normalize(X)\n",
    "X, y = shuffle(X, y, random_state = 2)"
   ]
  },
  {
   "cell_type": "code",
   "execution_count": 16,
   "id": "harmful-vietnam",
   "metadata": {},
   "outputs": [
    {
     "name": "stdout",
     "output_type": "stream",
     "text": [
      "Fold:0, Train set: 1988, Test set:221\n",
      "Fold:1, Train set: 1988, Test set:221\n",
      "Fold:2, Train set: 1988, Test set:221\n",
      "Fold:3, Train set: 1988, Test set:221\n",
      "Fold:4, Train set: 1988, Test set:221\n",
      "Fold:5, Train set: 1988, Test set:221\n",
      "Fold:6, Train set: 1988, Test set:221\n",
      "Fold:7, Train set: 1988, Test set:221\n",
      "Fold:8, Train set: 1988, Test set:221\n",
      "Fold:9, Train set: 1989, Test set:220\n"
     ]
    }
   ],
   "source": [
    "# Initiate the 10 - fold split \n",
    "kf = StratifiedKFold(n_splits = 10, shuffle = True, random_state = 2)\n",
    "\n",
    "\n",
    "# Initiate a decision tree model\n",
    "clf = DecisionTreeClassifier(class_weight=None, \n",
    "                            criterion='entropy',\n",
    "                            max_depth=10,\n",
    "                            max_features=3, \n",
    "                            max_leaf_nodes=None,\n",
    "                            min_impurity_decrease=0.0, \n",
    "                            min_samples_leaf=18, \n",
    "                            min_samples_split=10,\n",
    "                            min_weight_fraction_leaf=0.0, \n",
    "                            #presort=False,\n",
    "                            random_state=2, \n",
    "                            splitter='best'\n",
    "                            )\n",
    "\n",
    "\n",
    "\n",
    "# split()  method generate indices to split data into training and test set.\n",
    "for (train_index, test_index), i in zip(kf.split(X, y), range(10)):\n",
    "    print(f'Fold:{i}, Train set: {len(train_index)}, Test set:{len(test_index)}')"
   ]
  },
  {
   "cell_type": "code",
   "execution_count": 17,
   "id": "respective-stand",
   "metadata": {},
   "outputs": [
    {
     "name": "stdout",
     "output_type": "stream",
     "text": [
      "Scores for each fold are: [0.77828054 0.7918552  0.76923077 0.76923077 0.77828054 0.7918552\n",
      " 0.74208145 0.78280543 0.7918552  0.77727273]\n",
      "Average score: 0.78\n"
     ]
    }
   ],
   "source": [
    "score = cross_val_score(clf, X, y, cv= kf, scoring=\"accuracy\")\n",
    "print(f'Scores for each fold are: {score}')\n",
    "print(f'Average score: {\"{:.2f}\".format(score.mean())}')"
   ]
  },
  {
   "cell_type": "code",
   "execution_count": 18,
   "id": "tired-exploration",
   "metadata": {},
   "outputs": [],
   "source": [
    "X_train, X_test, y_train, y_test = train_test_split(X, y, random_state = 2, stratify = y, test_size = 0.40)"
   ]
  },
  {
   "cell_type": "code",
   "execution_count": 19,
   "id": "motivated-block",
   "metadata": {},
   "outputs": [
    {
     "data": {
      "text/plain": [
       "0.747737556561086"
      ]
     },
     "execution_count": 19,
     "metadata": {},
     "output_type": "execute_result"
    }
   ],
   "source": [
    "m = clf.fit(X_train, y_train)\n",
    "y_pred = m.predict(X_test)\n",
    "accuracy_score(y_test, y_pred)"
   ]
  },
  {
   "cell_type": "code",
   "execution_count": 20,
   "id": "prerequisite-ceiling",
   "metadata": {},
   "outputs": [
    {
     "name": "stdout",
     "output_type": "stream",
     "text": [
      "[[ 57  75  10]\n",
      " [ 28 599  20]\n",
      " [  6  84   5]]\n"
     ]
    }
   ],
   "source": [
    "cnf = confusion_matrix(y_test, y_pred)\n",
    "print(cnf)"
   ]
  },
  {
   "cell_type": "code",
   "execution_count": 21,
   "id": "international-sleeve",
   "metadata": {},
   "outputs": [],
   "source": [
    "# For class pre-FoG\n",
    "tp = cnf[1][1]\n",
    "tn = cnf[0][0] + cnf[0][2] + cnf[2][0] + cnf[2][2]\n",
    "fp = cnf[1][0] + cnf[1][2]\n",
    "fn = cnf[0][1] + cnf[2][1]"
   ]
  },
  {
   "cell_type": "code",
   "execution_count": 22,
   "id": "partial-mercy",
   "metadata": {},
   "outputs": [],
   "source": [
    "precision = tp/(tp + fp)\n",
    "recall =  tp / (tp + fn)    #sensitivity\n",
    "F1_score = (2*tp) / (2*tp + fp + fn)"
   ]
  },
  {
   "cell_type": "code",
   "execution_count": 23,
   "id": "ranging-ethics",
   "metadata": {},
   "outputs": [
    {
     "name": "stdout",
     "output_type": "stream",
     "text": [
      "The evaluation metrics are:\n",
      "precision = 0.9258114374034003,\n",
      "recall = 0.7902374670184696, \n",
      "F1-score = 0.8526690391459075\n"
     ]
    }
   ],
   "source": [
    "print(\"The evaluation metrics are:\\nprecision = {},\\nrecall = {}, \\nF1-score = {}\".format(precision, recall, F1_score) )"
   ]
  },
  {
   "cell_type": "code",
   "execution_count": null,
   "id": "opposed-basket",
   "metadata": {},
   "outputs": [],
   "source": []
  }
 ],
 "metadata": {
  "kernelspec": {
   "display_name": "Python 3",
   "language": "python",
   "name": "python3"
  },
  "language_info": {
   "codemirror_mode": {
    "name": "ipython",
    "version": 3
   },
   "file_extension": ".py",
   "mimetype": "text/x-python",
   "name": "python",
   "nbconvert_exporter": "python",
   "pygments_lexer": "ipython3",
   "version": "3.7.0"
  }
 },
 "nbformat": 4,
 "nbformat_minor": 5
}
