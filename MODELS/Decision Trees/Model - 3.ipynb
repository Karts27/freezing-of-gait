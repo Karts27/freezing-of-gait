{
 "cells": [
  {
   "cell_type": "code",
   "execution_count": 1,
   "id": "activated-graph",
   "metadata": {},
   "outputs": [],
   "source": [
    "import pandas as pd\n",
    "import numpy as np\n",
    "import os\n",
    "import tensorflow as tf\n",
    "from sklearn.model_selection import train_test_split, cross_val_score, StratifiedKFold\n",
    "from sklearn.preprocessing import normalize\n",
    "from sklearn.tree import DecisionTreeClassifier\n",
    "from sklearn.metrics import accuracy_score, confusion_matrix, classification_report\n",
    "from sklearn.utils import shuffle\n",
    "\n",
    "os.chdir(r\"F:\\\\KARTIK\\\\2021\\\\Freezing of Gait\")"
   ]
  },
  {
   "cell_type": "code",
   "execution_count": 2,
   "id": "exclusive-baltimore",
   "metadata": {},
   "outputs": [
    {
     "name": "stdout",
     "output_type": "stream",
     "text": [
      "True\n"
     ]
    }
   ],
   "source": [
    "data_path = os.path.join(os.getcwd(), 'dataset_fog_release', 'dataset', 'FINAL FEATURES', 'final_ftrs_size_1.5_3.csv')\n",
    "if os.path.exists(data_path):\n",
    "    print(True)"
   ]
  },
  {
   "cell_type": "code",
   "execution_count": 3,
   "id": "resistant-vietnamese",
   "metadata": {},
   "outputs": [
    {
     "data": {
      "text/html": [
       "<div>\n",
       "<style scoped>\n",
       "    .dataframe tbody tr th:only-of-type {\n",
       "        vertical-align: middle;\n",
       "    }\n",
       "\n",
       "    .dataframe tbody tr th {\n",
       "        vertical-align: top;\n",
       "    }\n",
       "\n",
       "    .dataframe thead th {\n",
       "        text-align: right;\n",
       "    }\n",
       "</style>\n",
       "<table border=\"1\" class=\"dataframe\">\n",
       "  <thead>\n",
       "    <tr style=\"text-align: right;\">\n",
       "      <th></th>\n",
       "      <th>Unnamed: 0</th>\n",
       "      <th>0</th>\n",
       "      <th>Minimum_A_F</th>\n",
       "      <th>Maximum_A_F</th>\n",
       "      <th>RMS_A_F</th>\n",
       "      <th>Variance_A_F</th>\n",
       "      <th>STD_A_F</th>\n",
       "      <th>RangeA_F</th>\n",
       "      <th>Minimum_A_V</th>\n",
       "      <th>Maximum_A_V</th>\n",
       "      <th>RMS_A_V</th>\n",
       "      <th>Variance_A_V</th>\n",
       "      <th>RangeA_V</th>\n",
       "      <th>Minimum_A_L</th>\n",
       "      <th>RMS_A_L</th>\n",
       "      <th>Variance_A_L</th>\n",
       "      <th>RangeA_L</th>\n",
       "      <th>EN_A_F</th>\n",
       "      <th>EN_A_V</th>\n",
       "      <th>EN_A_L</th>\n",
       "    </tr>\n",
       "  </thead>\n",
       "  <tbody>\n",
       "    <tr>\n",
       "      <th>0</th>\n",
       "      <td>8203</td>\n",
       "      <td>0</td>\n",
       "      <td>-606</td>\n",
       "      <td>1000</td>\n",
       "      <td>379.140578</td>\n",
       "      <td>94373.349370</td>\n",
       "      <td>307.202457</td>\n",
       "      <td>1606</td>\n",
       "      <td>431</td>\n",
       "      <td>1529</td>\n",
       "      <td>1105.287236</td>\n",
       "      <td>74150.264650</td>\n",
       "      <td>1098</td>\n",
       "      <td>-465</td>\n",
       "      <td>257.441893</td>\n",
       "      <td>25377.585690</td>\n",
       "      <td>999</td>\n",
       "      <td>9199845</td>\n",
       "      <td>78186232</td>\n",
       "      <td>4241685</td>\n",
       "    </tr>\n",
       "    <tr>\n",
       "      <th>1</th>\n",
       "      <td>6414</td>\n",
       "      <td>0</td>\n",
       "      <td>131</td>\n",
       "      <td>171</td>\n",
       "      <td>148.916084</td>\n",
       "      <td>77.319336</td>\n",
       "      <td>8.793141</td>\n",
       "      <td>40</td>\n",
       "      <td>960</td>\n",
       "      <td>1000</td>\n",
       "      <td>981.148084</td>\n",
       "      <td>106.616211</td>\n",
       "      <td>40</td>\n",
       "      <td>306</td>\n",
       "      <td>324.583002</td>\n",
       "      <td>94.433594</td>\n",
       "      <td>50</td>\n",
       "      <td>1419264</td>\n",
       "      <td>61609700</td>\n",
       "      <td>6742664</td>\n",
       "    </tr>\n",
       "    <tr>\n",
       "      <th>2</th>\n",
       "      <td>7376</td>\n",
       "      <td>0</td>\n",
       "      <td>-888</td>\n",
       "      <td>858</td>\n",
       "      <td>345.510582</td>\n",
       "      <td>89286.155270</td>\n",
       "      <td>298.807890</td>\n",
       "      <td>1746</td>\n",
       "      <td>264</td>\n",
       "      <td>1715</td>\n",
       "      <td>1139.054693</td>\n",
       "      <td>103206.433600</td>\n",
       "      <td>1451</td>\n",
       "      <td>-772</td>\n",
       "      <td>240.686940</td>\n",
       "      <td>26893.673580</td>\n",
       "      <td>1187</td>\n",
       "      <td>7640164</td>\n",
       "      <td>83036518</td>\n",
       "      <td>3707533</td>\n",
       "    </tr>\n",
       "    <tr>\n",
       "      <th>3</th>\n",
       "      <td>10675</td>\n",
       "      <td>0</td>\n",
       "      <td>151</td>\n",
       "      <td>242</td>\n",
       "      <td>212.870890</td>\n",
       "      <td>323.628662</td>\n",
       "      <td>17.989682</td>\n",
       "      <td>91</td>\n",
       "      <td>990</td>\n",
       "      <td>1039</td>\n",
       "      <td>1008.825276</td>\n",
       "      <td>151.875000</td>\n",
       "      <td>49</td>\n",
       "      <td>118</td>\n",
       "      <td>152.907039</td>\n",
       "      <td>305.053711</td>\n",
       "      <td>70</td>\n",
       "      <td>2900097</td>\n",
       "      <td>65134620</td>\n",
       "      <td>1496356</td>\n",
       "    </tr>\n",
       "    <tr>\n",
       "      <th>4</th>\n",
       "      <td>4503</td>\n",
       "      <td>0</td>\n",
       "      <td>-2000</td>\n",
       "      <td>2131</td>\n",
       "      <td>767.000560</td>\n",
       "      <td>561224.468500</td>\n",
       "      <td>749.149163</td>\n",
       "      <td>4131</td>\n",
       "      <td>245</td>\n",
       "      <td>2323</td>\n",
       "      <td>1255.367065</td>\n",
       "      <td>213400.952100</td>\n",
       "      <td>2078</td>\n",
       "      <td>-1227</td>\n",
       "      <td>390.579237</td>\n",
       "      <td>94629.189210</td>\n",
       "      <td>2306</td>\n",
       "      <td>37650551</td>\n",
       "      <td>100860574</td>\n",
       "      <td>9763337</td>\n",
       "    </tr>\n",
       "  </tbody>\n",
       "</table>\n",
       "</div>"
      ],
      "text/plain": [
       "   Unnamed: 0  0  Minimum_A_F  Maximum_A_F     RMS_A_F   Variance_A_F  \\\n",
       "0        8203  0         -606         1000  379.140578   94373.349370   \n",
       "1        6414  0          131          171  148.916084      77.319336   \n",
       "2        7376  0         -888          858  345.510582   89286.155270   \n",
       "3       10675  0          151          242  212.870890     323.628662   \n",
       "4        4503  0        -2000         2131  767.000560  561224.468500   \n",
       "\n",
       "      STD_A_F  RangeA_F  Minimum_A_V  Maximum_A_V      RMS_A_V   Variance_A_V  \\\n",
       "0  307.202457      1606          431         1529  1105.287236   74150.264650   \n",
       "1    8.793141        40          960         1000   981.148084     106.616211   \n",
       "2  298.807890      1746          264         1715  1139.054693  103206.433600   \n",
       "3   17.989682        91          990         1039  1008.825276     151.875000   \n",
       "4  749.149163      4131          245         2323  1255.367065  213400.952100   \n",
       "\n",
       "   RangeA_V  Minimum_A_L     RMS_A_L  Variance_A_L  RangeA_L    EN_A_F  \\\n",
       "0      1098         -465  257.441893  25377.585690       999   9199845   \n",
       "1        40          306  324.583002     94.433594        50   1419264   \n",
       "2      1451         -772  240.686940  26893.673580      1187   7640164   \n",
       "3        49          118  152.907039    305.053711        70   2900097   \n",
       "4      2078        -1227  390.579237  94629.189210      2306  37650551   \n",
       "\n",
       "      EN_A_V   EN_A_L  \n",
       "0   78186232  4241685  \n",
       "1   61609700  6742664  \n",
       "2   83036518  3707533  \n",
       "3   65134620  1496356  \n",
       "4  100860574  9763337  "
      ]
     },
     "execution_count": 3,
     "metadata": {},
     "output_type": "execute_result"
    }
   ],
   "source": [
    "df = pd.read_csv(data_path)\n",
    "df.head()"
   ]
  },
  {
   "cell_type": "code",
   "execution_count": 4,
   "id": "green-nigeria",
   "metadata": {},
   "outputs": [],
   "source": [
    "df['Energy_Mean'] = (df['EN_A_F'] + df['EN_A_V'] + df['EN_A_L'])/3\n",
    "df = df.drop(['EN_A_F','EN_A_V','EN_A_L','Unnamed: 0'], axis = 1)"
   ]
  },
  {
   "cell_type": "code",
   "execution_count": 5,
   "id": "light-touch",
   "metadata": {},
   "outputs": [
    {
     "data": {
      "text/html": [
       "<div>\n",
       "<style scoped>\n",
       "    .dataframe tbody tr th:only-of-type {\n",
       "        vertical-align: middle;\n",
       "    }\n",
       "\n",
       "    .dataframe tbody tr th {\n",
       "        vertical-align: top;\n",
       "    }\n",
       "\n",
       "    .dataframe thead th {\n",
       "        text-align: right;\n",
       "    }\n",
       "</style>\n",
       "<table border=\"1\" class=\"dataframe\">\n",
       "  <thead>\n",
       "    <tr style=\"text-align: right;\">\n",
       "      <th></th>\n",
       "      <th>0</th>\n",
       "      <th>Minimum_A_F</th>\n",
       "      <th>Maximum_A_F</th>\n",
       "      <th>RMS_A_F</th>\n",
       "      <th>Variance_A_F</th>\n",
       "      <th>STD_A_F</th>\n",
       "      <th>RangeA_F</th>\n",
       "      <th>Minimum_A_V</th>\n",
       "      <th>Maximum_A_V</th>\n",
       "      <th>RMS_A_V</th>\n",
       "      <th>Variance_A_V</th>\n",
       "      <th>RangeA_V</th>\n",
       "      <th>Minimum_A_L</th>\n",
       "      <th>RMS_A_L</th>\n",
       "      <th>Variance_A_L</th>\n",
       "      <th>RangeA_L</th>\n",
       "      <th>Energy_Mean</th>\n",
       "    </tr>\n",
       "  </thead>\n",
       "  <tbody>\n",
       "    <tr>\n",
       "      <th>0</th>\n",
       "      <td>0</td>\n",
       "      <td>-606</td>\n",
       "      <td>1000</td>\n",
       "      <td>379.140578</td>\n",
       "      <td>94373.349370</td>\n",
       "      <td>307.202457</td>\n",
       "      <td>1606</td>\n",
       "      <td>431</td>\n",
       "      <td>1529</td>\n",
       "      <td>1105.287236</td>\n",
       "      <td>74150.264650</td>\n",
       "      <td>1098</td>\n",
       "      <td>-465</td>\n",
       "      <td>257.441893</td>\n",
       "      <td>25377.585690</td>\n",
       "      <td>999</td>\n",
       "      <td>3.054259e+07</td>\n",
       "    </tr>\n",
       "    <tr>\n",
       "      <th>1</th>\n",
       "      <td>0</td>\n",
       "      <td>131</td>\n",
       "      <td>171</td>\n",
       "      <td>148.916084</td>\n",
       "      <td>77.319336</td>\n",
       "      <td>8.793141</td>\n",
       "      <td>40</td>\n",
       "      <td>960</td>\n",
       "      <td>1000</td>\n",
       "      <td>981.148084</td>\n",
       "      <td>106.616211</td>\n",
       "      <td>40</td>\n",
       "      <td>306</td>\n",
       "      <td>324.583002</td>\n",
       "      <td>94.433594</td>\n",
       "      <td>50</td>\n",
       "      <td>2.325721e+07</td>\n",
       "    </tr>\n",
       "    <tr>\n",
       "      <th>2</th>\n",
       "      <td>0</td>\n",
       "      <td>-888</td>\n",
       "      <td>858</td>\n",
       "      <td>345.510582</td>\n",
       "      <td>89286.155270</td>\n",
       "      <td>298.807890</td>\n",
       "      <td>1746</td>\n",
       "      <td>264</td>\n",
       "      <td>1715</td>\n",
       "      <td>1139.054693</td>\n",
       "      <td>103206.433600</td>\n",
       "      <td>1451</td>\n",
       "      <td>-772</td>\n",
       "      <td>240.686940</td>\n",
       "      <td>26893.673580</td>\n",
       "      <td>1187</td>\n",
       "      <td>3.146140e+07</td>\n",
       "    </tr>\n",
       "    <tr>\n",
       "      <th>3</th>\n",
       "      <td>0</td>\n",
       "      <td>151</td>\n",
       "      <td>242</td>\n",
       "      <td>212.870890</td>\n",
       "      <td>323.628662</td>\n",
       "      <td>17.989682</td>\n",
       "      <td>91</td>\n",
       "      <td>990</td>\n",
       "      <td>1039</td>\n",
       "      <td>1008.825276</td>\n",
       "      <td>151.875000</td>\n",
       "      <td>49</td>\n",
       "      <td>118</td>\n",
       "      <td>152.907039</td>\n",
       "      <td>305.053711</td>\n",
       "      <td>70</td>\n",
       "      <td>2.317702e+07</td>\n",
       "    </tr>\n",
       "    <tr>\n",
       "      <th>4</th>\n",
       "      <td>0</td>\n",
       "      <td>-2000</td>\n",
       "      <td>2131</td>\n",
       "      <td>767.000560</td>\n",
       "      <td>561224.468500</td>\n",
       "      <td>749.149163</td>\n",
       "      <td>4131</td>\n",
       "      <td>245</td>\n",
       "      <td>2323</td>\n",
       "      <td>1255.367065</td>\n",
       "      <td>213400.952100</td>\n",
       "      <td>2078</td>\n",
       "      <td>-1227</td>\n",
       "      <td>390.579237</td>\n",
       "      <td>94629.189210</td>\n",
       "      <td>2306</td>\n",
       "      <td>4.942482e+07</td>\n",
       "    </tr>\n",
       "  </tbody>\n",
       "</table>\n",
       "</div>"
      ],
      "text/plain": [
       "   0  Minimum_A_F  Maximum_A_F     RMS_A_F   Variance_A_F     STD_A_F  \\\n",
       "0  0         -606         1000  379.140578   94373.349370  307.202457   \n",
       "1  0          131          171  148.916084      77.319336    8.793141   \n",
       "2  0         -888          858  345.510582   89286.155270  298.807890   \n",
       "3  0          151          242  212.870890     323.628662   17.989682   \n",
       "4  0        -2000         2131  767.000560  561224.468500  749.149163   \n",
       "\n",
       "   RangeA_F  Minimum_A_V  Maximum_A_V      RMS_A_V   Variance_A_V  RangeA_V  \\\n",
       "0      1606          431         1529  1105.287236   74150.264650      1098   \n",
       "1        40          960         1000   981.148084     106.616211        40   \n",
       "2      1746          264         1715  1139.054693  103206.433600      1451   \n",
       "3        91          990         1039  1008.825276     151.875000        49   \n",
       "4      4131          245         2323  1255.367065  213400.952100      2078   \n",
       "\n",
       "   Minimum_A_L     RMS_A_L  Variance_A_L  RangeA_L   Energy_Mean  \n",
       "0         -465  257.441893  25377.585690       999  3.054259e+07  \n",
       "1          306  324.583002     94.433594        50  2.325721e+07  \n",
       "2         -772  240.686940  26893.673580      1187  3.146140e+07  \n",
       "3          118  152.907039    305.053711        70  2.317702e+07  \n",
       "4        -1227  390.579237  94629.189210      2306  4.942482e+07  "
      ]
     },
     "execution_count": 5,
     "metadata": {},
     "output_type": "execute_result"
    }
   ],
   "source": [
    "df.head()"
   ]
  },
  {
   "cell_type": "code",
   "execution_count": 6,
   "id": "documented-casino",
   "metadata": {},
   "outputs": [],
   "source": [
    "# Split the data for the classifier\n",
    "y = df['0'].values\n",
    "X = df.iloc[:,1:]\n",
    "#X = normalize(X)\n",
    "X, y = shuffle(X, y, random_state = 2)"
   ]
  },
  {
   "cell_type": "code",
   "execution_count": 7,
   "id": "theoretical-voice",
   "metadata": {},
   "outputs": [
    {
     "name": "stdout",
     "output_type": "stream",
     "text": [
      "Fold:0, Train set: 1988, Test set:221\n",
      "Fold:1, Train set: 1988, Test set:221\n",
      "Fold:2, Train set: 1988, Test set:221\n",
      "Fold:3, Train set: 1988, Test set:221\n",
      "Fold:4, Train set: 1988, Test set:221\n",
      "Fold:5, Train set: 1988, Test set:221\n",
      "Fold:6, Train set: 1988, Test set:221\n",
      "Fold:7, Train set: 1988, Test set:221\n",
      "Fold:8, Train set: 1988, Test set:221\n",
      "Fold:9, Train set: 1989, Test set:220\n"
     ]
    }
   ],
   "source": [
    "# Initiate the 10 - fold split \n",
    "kf = StratifiedKFold(n_splits = 10, shuffle = True, random_state = 2)\n",
    "\n",
    "# Initiate a decision tree model\n",
    "clf = DecisionTreeClassifier(class_weight=None, \n",
    "                            criterion='entropy',\n",
    "                            max_depth=10,\n",
    "                            max_features=3, \n",
    "                            max_leaf_nodes=None,\n",
    "                            min_impurity_decrease=0.0, \n",
    "                            min_samples_leaf=18, \n",
    "                            min_samples_split=10,\n",
    "                            min_weight_fraction_leaf=0.0, \n",
    "                            #presort=False,\n",
    "                            random_state=2, \n",
    "                            splitter='best'\n",
    "                            )\n",
    "\n",
    "# split()  method generate indices to split data into training and test set.\n",
    "for (train_index, test_index), i in zip(kf.split(X, y), range(10)):\n",
    "    print(f'Fold:{i}, Train set: {len(train_index)}, Test set:{len(test_index)}')"
   ]
  },
  {
   "cell_type": "code",
   "execution_count": 17,
   "id": "alone-coral",
   "metadata": {},
   "outputs": [
    {
     "name": "stdout",
     "output_type": "stream",
     "text": [
      "Scores for each fold are: [0.74660633 0.73755656 0.78733032 0.760181   0.76470588 0.76470588\n",
      " 0.73755656 0.78280543 0.78280543 0.75909091]\n",
      "Average score: 0.76\n"
     ]
    }
   ],
   "source": [
    "score = cross_val_score(clf, X, y, cv= kf, scoring=\"accuracy\")\n",
    "print(f'Scores for each fold are: {score}')\n",
    "print(f'Average score: {\"{:.2f}\".format(score.mean())}')"
   ]
  },
  {
   "cell_type": "code",
   "execution_count": 8,
   "id": "interstate-adaptation",
   "metadata": {},
   "outputs": [],
   "source": [
    "X_train, X_test, y_train, y_test = train_test_split(X, y, random_state = 2, stratify = y, test_size = 0.40)"
   ]
  },
  {
   "cell_type": "code",
   "execution_count": 9,
   "id": "excess-growth",
   "metadata": {},
   "outputs": [
    {
     "data": {
      "text/plain": [
       "0.7703619909502263"
      ]
     },
     "execution_count": 9,
     "metadata": {},
     "output_type": "execute_result"
    }
   ],
   "source": [
    "m = clf.fit(X_train, y_train)\n",
    "y_pred = m.predict(X_test)\n",
    "accuracy_score(y_test, y_pred)"
   ]
  },
  {
   "cell_type": "code",
   "execution_count": 10,
   "id": "infectious-marsh",
   "metadata": {},
   "outputs": [
    {
     "name": "stdout",
     "output_type": "stream",
     "text": [
      "[[ 63  75   4]\n",
      " [ 22 615  10]\n",
      " [  6  86   3]]\n"
     ]
    }
   ],
   "source": [
    "cnf = confusion_matrix(y_test, y_pred)\n",
    "print(cnf)"
   ]
  },
  {
   "cell_type": "code",
   "execution_count": 11,
   "id": "existing-consolidation",
   "metadata": {},
   "outputs": [],
   "source": [
    "# For class pre-FoG\n",
    "tp = cnf[1][1]\n",
    "tn = cnf[0][0] + cnf[0][2] + cnf[2][0] + cnf[2][2]\n",
    "fp = cnf[1][0] + cnf[1][2]\n",
    "fn = cnf[0][1] + cnf[2][1]"
   ]
  },
  {
   "cell_type": "code",
   "execution_count": 12,
   "id": "romance-count",
   "metadata": {},
   "outputs": [],
   "source": [
    "precision = tp/(tp + fp)\n",
    "recall =  tp / (tp + fn)    #sensitivity\n",
    "F1_score = (2*tp) / (2*tp + fp + fn)"
   ]
  },
  {
   "cell_type": "code",
   "execution_count": 13,
   "id": "future-lottery",
   "metadata": {},
   "outputs": [
    {
     "name": "stdout",
     "output_type": "stream",
     "text": [
      "The evaluation metrics are:\n",
      "precision = 0.9505409582689336,\n",
      "recall = 0.7925257731958762, \n",
      "F1-score = 0.8643710470836261\n"
     ]
    }
   ],
   "source": [
    "print(\"The evaluation metrics are:\\nprecision = {},\\nrecall = {}, \\nF1-score = {}\".format(precision, recall, F1_score) )"
   ]
  },
  {
   "cell_type": "code",
   "execution_count": 15,
   "id": "super-clothing",
   "metadata": {},
   "outputs": [
    {
     "data": {
      "text/plain": [
       "'              precision    recall  f1-score   support\\n\\n           0       0.69      0.44      0.54       142\\n           1       0.79      0.95      0.86       647\\n           2       0.18      0.03      0.05        95\\n\\n    accuracy                           0.77       884\\n   macro avg       0.55      0.48      0.49       884\\nweighted avg       0.71      0.77      0.73       884\\n'"
      ]
     },
     "execution_count": 15,
     "metadata": {},
     "output_type": "execute_result"
    }
   ],
   "source": [
    "classification_report(y_test, y_pred)"
   ]
  },
  {
   "cell_type": "code",
   "execution_count": null,
   "id": "appointed-ambassador",
   "metadata": {},
   "outputs": [],
   "source": []
  }
 ],
 "metadata": {
  "kernelspec": {
   "display_name": "Python 3",
   "language": "python",
   "name": "python3"
  },
  "language_info": {
   "codemirror_mode": {
    "name": "ipython",
    "version": 3
   },
   "file_extension": ".py",
   "mimetype": "text/x-python",
   "name": "python",
   "nbconvert_exporter": "python",
   "pygments_lexer": "ipython3",
   "version": "3.7.0"
  }
 },
 "nbformat": 4,
 "nbformat_minor": 5
}
